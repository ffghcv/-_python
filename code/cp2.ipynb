{
 "cells": [
  {
   "cell_type": "markdown",
   "metadata": {
    "collapsed": true,
    "pycharm": {
     "name": "#%% md\n"
    }
   },
   "source": [
    "# Python 类"
   ]
  },
  {
   "cell_type": "code",
   "source": [
    "class Ratioina10:\n",
    "    def __init__(self, num, den=1):\n",
    "        self.num = num\n",
    "        self.den = den\n",
    "    \n",
    "    def plus(self, another):\n",
    "        den = self.den * another.den\n",
    "        num = self.num * another.den + another.num * self.den\n",
    "        return Ratioina10(den, num)\n",
    "    \n",
    "    @property\n",
    "    def print(self):\n",
    "        return str(self.num) + \"/\" + str(self.den)\n",
    "    \n",
    "    \n",
    "\n",
    "a = Ratioina10(3,5)\n",
    "b = Ratioina10(4,5)\n",
    "c = a.plus(b)\n",
    "print(c.print)"
   ],
   "metadata": {
    "collapsed": false,
    "pycharm": {
     "name": "#%%\n",
     "is_executing": false
    }
   },
   "execution_count": 11,
   "outputs": [
    {
     "name": "stdout",
     "text": [
      "25/35\n"
     ],
     "output_type": "stream"
    }
   ]
  },
  {
   "cell_type": "markdown",
   "source": [
    "## 静态方法"
   ],
   "metadata": {
    "collapsed": false,
    "pycharm": {
     "name": "#%% md\n"
    }
   }
  },
  {
   "cell_type": "code",
   "execution_count": 47,
   "outputs": [
    {
     "name": "stdout",
     "text": [
      "<class 'int'>\n",
      "<class 'method'>\n",
      "<class 'function'>\n",
      "25\n",
      "25\n"
     ],
     "output_type": "stream"
    }
   ],
   "source": [
    "class Rational:\n",
    "    @staticmethod\n",
    "    def gcd(m,n):\n",
    "        for i in range(1,min(m,n)+1):\n",
    "            if m % i == 0 and n % i ==0:\n",
    "                tag = i\n",
    "        return tag\n",
    "    \n",
    "    def __init__(self, num, den=1):\n",
    "        if not isinstance(num, int) or not isinstance(den, int):\n",
    "            raise TypeError\n",
    "        if den == 0:\n",
    "            raise ZeroDivisionError\n",
    "        sign = 1\n",
    "        if num < 0:\n",
    "            num, sign = -num, -sign\n",
    "        if den < 0:\n",
    "            den, sign = -den, -sign\n",
    "        g = gcd(num, den)\n",
    "        self._num = sign * (num // g)\n",
    "        self._den = sign * (den // g)\n",
    "        \n",
    "    def num(self):\n",
    "        return self._num\n",
    "    \n",
    "    def den(self):\n",
    "        return self._den\n",
    "    \n",
    "    def __add__(self, another):\n",
    "        den = self._den + another.den()\n",
    "        num = self._num * another.den() + self._den * another.num()\n",
    "        return Rational(num, den)\n",
    "    \n",
    "    def __mul__(self, other):\n",
    "        return Rational(self._num * other.num(), self._den * other.den())\n",
    "    \n",
    "    def __str__(self):\n",
    "        return str(self._num) + \"/\" + str(self._den)\n",
    "    \n",
    "    def print(self):\n",
    "        print(self._num, \"/\", self._den)\n",
    "    \n",
    "    @property\n",
    "    def apple(self):\n",
    "        return self._num * self._den\n",
    "    \n",
    "    def banana(self):\n",
    "        return self._den * self._den\n",
    "\n",
    "a = Rational(3,5)\n",
    "b = Rational(7,8)\n",
    "c = a.__add__(b)\n",
    "a.__str__()\n",
    "c.__str__()\n",
    "#b.print()\n",
    "#print(Rational(2,3))\n",
    "#a.print()\n",
    "print(type(a.apple))\n",
    "print(type(a.banana))\n",
    "print(type(Rational.banana))\n",
    "print(a.banana())\n",
    "print(Rational.banana(a))"
   ],
   "metadata": {
    "collapsed": false,
    "pycharm": {
     "name": "#%%\n",
     "is_executing": false
    }
   }
  },
  {
   "cell_type": "code",
   "execution_count": 36,
   "outputs": [
    {
     "name": "stdout",
     "text": [
      "1 / 2\n"
     ],
     "output_type": "stream"
    }
   ],
   "source": [
    "a = Rational(3,6)\n",
    "a.print()"
   ],
   "metadata": {
    "collapsed": false,
    "pycharm": {
     "name": "#%%\n",
     "is_executing": false
    }
   }
  },
  {
   "cell_type": "code",
   "execution_count": 5,
   "outputs": [
    {
     "name": "stdout",
     "text": [
      "3\n"
     ],
     "output_type": "stream"
    }
   ],
   "source": [
    "class Countable:\n",
    "    counter = 0\n",
    "    \n",
    "    def __init__(self):\n",
    "        Countable.counter += 1\n",
    "    \n",
    "    @classmethod\n",
    "    def get_count(cls):\n",
    "        return Countable.counter\n",
    "\n",
    "x = Countable()\n",
    "y = Countable()\n",
    "z = Countable()\n",
    "\n",
    "print(Countable.get_count())"
   ],
   "metadata": {
    "collapsed": false,
    "pycharm": {
     "name": "#%%\n",
     "is_executing": false
    }
   }
  },
  {
   "cell_type": "code",
   "execution_count": 8,
   "outputs": [
    {
     "name": "stdout",
     "text": [
      "B.g\n",
      "C.g\n"
     ],
     "output_type": "stream"
    }
   ],
   "source": [
    "class B:\n",
    "    def f(self):\n",
    "        self.g()\n",
    "    def g(self):\n",
    "        print(\"B.g\")\n",
    "\n",
    "class C(B):\n",
    "    def g(self):\n",
    "        print(\"C.g\")\n",
    "\n",
    "aa = B()\n",
    "aa.f()\n",
    "bb = C()\n",
    "bb.f()"
   ],
   "metadata": {
    "collapsed": false,
    "pycharm": {
     "name": "#%%\n",
     "is_executing": false
    }
   }
  },
  {
   "cell_type": "code",
   "execution_count": 16,
   "outputs": [
    {
     "name": "stdout",
     "text": [
      "1 2\n",
      "2 3\n",
      "apple\n"
     ],
     "output_type": "stream"
    },
    {
     "traceback": [
      "\u001b[1;31m---------------------------------------------------------------------------\u001b[0m",
      "\u001b[1;31mAttributeError\u001b[0m                            Traceback (most recent call last)",
      "\u001b[1;32m<ipython-input-16-8adaaa847258>\u001b[0m in \u001b[0;36m<module>\u001b[1;34m\u001b[0m\n\u001b[0;32m     17\u001b[0m \u001b[0mb\u001b[0m\u001b[1;33m.\u001b[0m\u001b[0mm1\u001b[0m\u001b[1;33m(\u001b[0m\u001b[1;33m)\u001b[0m\u001b[1;33m\u001b[0m\u001b[1;33m\u001b[0m\u001b[0m\n\u001b[0;32m     18\u001b[0m \u001b[1;33m\u001b[0m\u001b[0m\n\u001b[1;32m---> 19\u001b[1;33m \u001b[0msuper\u001b[0m\u001b[1;33m(\u001b[0m\u001b[0mC1\u001b[0m\u001b[1;33m,\u001b[0m\u001b[0ma\u001b[0m\u001b[1;33m)\u001b[0m\u001b[1;33m.\u001b[0m\u001b[0mm1\u001b[0m\u001b[1;33m(\u001b[0m\u001b[1;33m)\u001b[0m\u001b[1;33m\u001b[0m\u001b[1;33m\u001b[0m\u001b[0m\n\u001b[0m",
      "\u001b[1;31mAttributeError\u001b[0m: 'super' object has no attribute 'm1'"
     ],
     "ename": "AttributeError",
     "evalue": "'super' object has no attribute 'm1'",
     "output_type": "error"
    }
   ],
   "source": [
    "class C1:\n",
    "    def __init__(self, x, y):\n",
    "        self.x = x\n",
    "        self.y = y\n",
    "    def m1(self):\n",
    "        print(self.x, self.y)\n",
    "\n",
    "class C2(C1):\n",
    "    def m1(self):\n",
    "        super().m1()\n",
    "        print(\"apple\")\n",
    "\n",
    "a = C1(1,2)\n",
    "a.m1()\n",
    "s\n",
    "b = C2(2,3)\n",
    "b.m1()"
   ],
   "metadata": {
    "collapsed": false,
    "pycharm": {
     "name": "#%%\n",
     "is_executing": false
    }
   }
  },
  {
   "cell_type": "code",
   "execution_count": 5,
   "outputs": [
    {
     "name": "stdout",
     "text": [
      "1996\n",
      "23\n",
      "<class 'bool'>\n",
      "2\n",
      "<class '__main__.Person'>\n",
      "12312 Jack male 1996-05-23\n",
      "ID:12312, Name:Jack, Sex:male, Birth:1996-05-23\n",
      "\n",
      "After sorting\n",
      "10201 Cook male 1982-10-10\n",
      "12312 Jack male 1996-05-23\n",
      "13241 Jerry male 1997-02-02\n",
      "22211 Tom female 1996-01-18\n",
      "people created: 4 \n",
      "\n"
     ],
     "output_type": "stream"
    }
   ],
   "source": [
    "class PersonTypeError(TypeError):\n",
    "    pass\n",
    "class PersonValueError(ValueError):\n",
    "    pass\n",
    "\n",
    "import datetime\n",
    "class Person:\n",
    "    _num = 0\n",
    "    \n",
    "    def __init__(self, name, sex, birthday, ident):\n",
    "        if not (isinstance(name, str) and sex in (\"male\", \"female\")):\n",
    "            raise PersonValueError(name, sex)\n",
    "        \n",
    "        try:\n",
    "            birth = datetime.date(*birthday)\n",
    "        except:\n",
    "            raise PersonValueError(\"Wrong date:\", birthday)\n",
    "        \n",
    "        self._name = name\n",
    "        self._sex = sex\n",
    "        self._birthday = birth\n",
    "        self._id = ident\n",
    "        Person._num += 1\n",
    "        \n",
    "    def id(self):\n",
    "        return self._id\n",
    "    \n",
    "    def name(self):\n",
    "        return self._name\n",
    "    \n",
    "    def sex(self):\n",
    "        return self._sex\n",
    "    \n",
    "    def birthday(self):\n",
    "        return self._birthday\n",
    "    \n",
    "    def age(self):\n",
    "        return (datetime.date.today().year - self._birthday.year)\n",
    "    \n",
    "    def set_name(self, name):\n",
    "        if not isinstance(name, str):\n",
    "            raise PersonValueError(\"???\")\n",
    "        self._name = name\n",
    "    \n",
    "    def __lt__(self, other):\n",
    "        if not isinstance(other, Person):\n",
    "            raise PersonTypeError(other)\n",
    "        return self._id < other._id\n",
    "    \n",
    "    @classmethod\n",
    "    def num(cls):\n",
    "        return Person._num\n",
    "    \n",
    "    def __str__(self):\n",
    "        return \" \".join((str(self._id), self._name, self._sex, str(self._birthday)))\n",
    "    \n",
    "    def details(self):\n",
    "        return \", \".join(((\"ID:\" + str(self._id)),\n",
    "                         (\"Name:\" + str(self._name)),\n",
    "                         (\"Sex:\" + str(self._sex)),\n",
    "                          (\"Birth:\" + str(self._birthday))))\n",
    "\n",
    "a = Person(\"Jack\", \"male\", (1996,5,23), 12312)\n",
    "print(a.birthday().year)\n",
    "print(a.age())\n",
    "b = Person(\"Tommy\", \"female\", (1996,1,18), 22211)\n",
    "print(type(a.__lt__(b)))\n",
    "print(Person.num())\n",
    "print(type(a))\n",
    "print(a)\n",
    "print(a.details())\n",
    "c = Person(\"Jerry\", \"male\", (1997,2,2), 13241)\n",
    "d = Person(\"Cook\", \"male\", (1982,10,10),10201)\n",
    "\n",
    "print(\"\\nAfter sorting\")\n",
    "plist= [a,b,c,d]\n",
    "plist.sort()\n",
    "for p in plist:\n",
    "    print(p)\n",
    "print(\"people created:\", Person.num(), \"\\n\")"
   ],
   "metadata": {
    "collapsed": false,
    "pycharm": {
     "name": "#%%\n",
     "is_executing": false
    }
   }
  },
  {
   "cell_type": "code",
   "execution_count": 12,
   "outputs": [
    {
     "name": "stdout",
     "text": [
      "1201900004 Ksd female 1994-03-24\n"
     ],
     "output_type": "stream"
    },
    {
     "data": {
      "text/plain": "'ID:1201900001, Name:Nan, Sex:male, Birth:1996-05-23, entry date:2019-12-05, department:Econ'"
     },
     "metadata": {},
     "output_type": "execute_result",
     "execution_count": 12
    }
   ],
   "source": [
    "class Student(Person):\n",
    "    _id_num = 0\n",
    "    \n",
    "    @classmethod\n",
    "    def _id_gen(cls):\n",
    "        cls._id_num += 1\n",
    "        year = datetime.date.today().year\n",
    "        return \"1{:04}{:05}\".format(year, cls._id_num)\n",
    "    \n",
    "    def __init__(self, name, sex, birthday, department):\n",
    "        Person.__init__(self, name, sex, birthday, Student._id_gen())\n",
    "        self._department = department\n",
    "        self._enroll_date = datetime.date.today()\n",
    "        self._courses = {}\n",
    "    \n",
    "    def set_course(self, course_name):\n",
    "        self._courses[course_name] = None\n",
    "    \n",
    "    def set_score(self, course_name, score):\n",
    "        self._courses[course_name] = score\n",
    "        \n",
    "    def scores(self):\n",
    "        return [(cname, self._courses[cname]) for cname in self._courses]\n",
    "    \n",
    "    def details(self):\n",
    "        return \", \".join(\n",
    "            (super().details(),\n",
    "             \"entry date:\" + str(self._enroll_date),\n",
    "             \"department:\" + str(self._department))\n",
    "        )\n",
    "    \n",
    "        \n",
    "s1 = Student(\"Nan\", \"male\", (1996,5,23), \"Econ\")\n",
    "s2 = Student(\"Cun\", \"male\", (1995,5,24), \"Econ\")\n",
    "s3 = Student(\"JJJ\", \"female\", (1993,1,24), \"Math\")\n",
    "s4 = Student(\"Ksd\", \"female\", (1994,3,24), \"Econ\")\n",
    "s5 = Student(\"Pod\", \"male\", (1998,2,24), \"Sta\")\n",
    "\n",
    "print(s4)\n",
    "s1.set_score(\"Stochastic Process\", 97)\n",
    "s1.set_score(\"High Fre data\", 95)\n",
    "s1.scores()\n",
    "s1.details()"
   ],
   "metadata": {
    "collapsed": false,
    "pycharm": {
     "name": "#%%\n",
     "is_executing": false
    }
   }
  },
  {
   "cell_type": "code",
   "execution_count": 25,
   "outputs": [
    {
     "name": "stdout",
     "text": [
      "12:12:31\n",
      "13:13:32\n",
      "10:55:30\n"
     ],
     "output_type": "stream"
    },
    {
     "data": {
      "text/plain": "True"
     },
     "metadata": {},
     "output_type": "execute_result",
     "execution_count": 25
    }
   ],
   "source": [
    "class TimeValueError(ValueError):\n",
    "    pass\n",
    "\n",
    "class Time(object):\n",
    "    \n",
    "    def __init__(self, hours, minutes, seconds):\n",
    "        if not hours < 24 or not hours > 0:\n",
    "            raise TimeValueError(hours)\n",
    "        if not minutes < 60 or not minutes > 0:\n",
    "            raise TimeValueError(minutes)\n",
    "        if not seconds < 60 or not seconds > 0:\n",
    "            raise TimeValueError(seconds)\n",
    "\n",
    "        self._hours = hours\n",
    "        self._minutes = minutes\n",
    "        self._seconds = seconds\n",
    "        \n",
    "    def __str__(self):\n",
    "        return \":\".join((str(self._hours), str(self._minutes), str(self._seconds)))\n",
    "    \n",
    "    def hours(self):\n",
    "        return self._hours\n",
    "    \n",
    "    def minutes(self):\n",
    "        return self._minutes\n",
    "    \n",
    "    def seconds(self):\n",
    "        return self._seconds\n",
    "\n",
    "    def __add__(self, other):\n",
    "        news = self._seconds + other.seconds()\n",
    "        newm = self._minutes + other.minutes()\n",
    "        newh = self._hours + other.hours()            \n",
    "        if news >= 60:\n",
    "            news = news - 60\n",
    "            newm += 1\n",
    "        if newm >= 60:\n",
    "            newm = newm -60\n",
    "            newh += 1\n",
    "        if newh >= 24:\n",
    "            newh = newh -24\n",
    "        return Time(newh,newm,news)\n",
    "    \n",
    "    def __lt__(self, other):\n",
    "        a = 24*self._hours + 60 * self._minutes +60 *self._seconds\n",
    "        b = 24*other.hours()+60 * other.minutes()+60*other.seconds()\n",
    "        return a < b\n",
    "    \n",
    "a = Time(12,12,31)\n",
    "print(a)\n",
    "a.hours()\n",
    "b = Time(1,1,1)\n",
    "c = Time(22, 42, 59)\n",
    "print(a+b)\n",
    "print(a+c)\n",
    "b < c"
   ],
   "metadata": {
    "collapsed": false,
    "pycharm": {
     "name": "#%%\n",
     "is_executing": false
    }
   }
  },
  {
   "cell_type": "code",
   "execution_count": 19,
   "outputs": [
    {
     "name": "stdout",
     "text": [
      "Help on wrapper_descriptor:\n",
      "\n",
      "__lt__(self, value, /)\n",
      "    Return self<value.\n",
      "\n"
     ],
     "output_type": "stream"
    }
   ],
   "source": [
    "help(Time.__lt__)"
   ],
   "metadata": {
    "collapsed": false,
    "pycharm": {
     "name": "#%%\n",
     "is_executing": false
    }
   }
  },
  {
   "cell_type": "code",
   "execution_count": 1,
   "outputs": [
    {
     "name": "stdout",
     "text": [
      "2019-12-05\n"
     ],
     "output_type": "stream"
    }
   ],
   "source": [
    "import datetime as dt\n",
    "a = dt.date.today()\n",
    "print(a)"
   ],
   "metadata": {
    "collapsed": false,
    "pycharm": {
     "name": "#%%\n",
     "is_executing": false
    }
   }
  }
 ],
 "metadata": {
  "kernelspec": {
   "display_name": "Python 3",
   "language": "python",
   "name": "python3"
  },
  "language_info": {
   "codemirror_mode": {
    "name": "ipython",
    "version": 2
   },
   "file_extension": ".py",
   "mimetype": "text/x-python",
   "name": "python",
   "nbconvert_exporter": "python",
   "pygments_lexer": "ipython2",
   "version": "2.7.6"
  },
  "pycharm": {
   "stem_cell": {
    "cell_type": "raw",
    "source": [],
    "metadata": {
     "collapsed": false
    }
   }
  }
 },
 "nbformat": 4,
 "nbformat_minor": 0
}