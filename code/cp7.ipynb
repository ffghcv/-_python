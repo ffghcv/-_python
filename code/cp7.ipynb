{
 "cells": [
  {
   "cell_type": "markdown",
   "metadata": {
    "collapsed": true,
    "pycharm": {
     "name": "#%% md\n"
    }
   },
   "source": [
    "# 图"
   ]
  },
  {
   "cell_type": "code",
   "execution_count": 1,
   "outputs": [],
   "source": [
    "inf = float(\"inf\")\n",
    "class AdjGraphError(TypeError):\n",
    "    pass\n",
    "\n",
    "class Graph:\n",
    "    def __init__(self, mat, unconn=0):\n",
    "        vnum = len(mat)\n",
    "        for x in mat:\n",
    "            if len(x) != vnum:\n",
    "                raise ValueError\n",
    "        self._mat = [mat[i][:] for i in range(vnum)]\n",
    "        self._unconn = unconn\n",
    "        self._vnum = vnum\n",
    "    \n",
    "    def vertex_num(self):\n",
    "        return self._vnum\n",
    "    \n",
    "    def _invalid(self, v):\n",
    "        return 0 > v or v > self._vnum\n",
    "    \n",
    "    def add_vertex(self):\n",
    "        raise AdjGraphError(\n",
    "            \"Adj Matrix does not support 'add_vertex'\")\n",
    "\n",
    "    def get_edge(self, vi, vj):\n",
    "        assert 0 <= vi < self.vnum and 0 <= vj < self.vnum\n",
    "        return self.mat[vi][vj]\n",
    "\n",
    "    def out_edges(self, vi):\n",
    "        assert 0 <= vi < self.vnum\n",
    "        return self._out_edges(self.mat, vi, self.unconn)\n",
    "\n",
    "    @staticmethod\n",
    "    def _out_edges(mat, vi, unconn):\n",
    "        edges = []\n",
    "        row = mat[vi]\n",
    "        for i in range(len(row)):\n",
    "            if row[i] != unconn:\n",
    "                edges.append((i, row[i]))\n",
    "        return edges\n",
    "\n",
    "    def __str__(self):\n",
    "        return \"[\\n\" + \"\\n\".join(map(str, self.mat)) + \"\\n]\"\\\n",
    "               + \"\\nUnconnected: \" + str(inf)"
   ],
   "metadata": {
    "collapsed": false,
    "pycharm": {
     "name": "#%%\n",
     "is_executing": false
    }
   }
  },
  {
   "cell_type": "code",
   "execution_count": 2,
   "outputs": [],
   "source": [
    "class GraphA(Graph):\n",
    "    def __init__(self, mat, unconn = 0):\n",
    "        vnum1 = len(mat)\n",
    "        for x in mat:\n",
    "            if len(x) != vnum1: # Check square matrix\n",
    "                raise ValueError(\"Argument for 'GraphA' is bad.\")\n",
    "        self.mat = [Graph._out_edges(mat, i, unconn)\n",
    "                        for i in range(vnum1)]\n",
    "        self.vnum = vnum1\n",
    "        self.unconn = unconn\n",
    "\n",
    "    def add_vertex(self): # For new vertex, return an index allocated\n",
    "        self.mat.append([])\n",
    "        self.vnum += 1\n",
    "        return self.vnum\n",
    "\n",
    "    def add_edge(self, vi, vj, val = 1):\n",
    "        assert 0 <= vi < self.vnum and 0 <= vj < self.vnum\n",
    "        row = self.mat[vi]\n",
    "        for i in range(len(row)):\n",
    "            if row[i][0] == vj: # replace a value for mat[vi][vj]\n",
    "                self.mat[vi][i] = (vj, val)\n",
    "                return\n",
    "            if row[i][0] > vj: break\n",
    "        else:\n",
    "            i += 1 # adjust for the new entry at the end\n",
    "        self.mat[vi].insert(i, (vj, val))\n",
    "\n",
    "    def get_edge(self, vi, vj):\n",
    "        assert 0 <= vi < self.vnum and 0 <= vj < self.vnum\n",
    "        for i, val in self.mat[vi]:\n",
    "            if i == vj: return val\n",
    "        return self.unconn\n",
    "\n",
    "    def out_edges(self, vi):\n",
    "        assert 0 <= vi < self.vnum\n",
    "        return self.mat[vi]"
   ],
   "metadata": {
    "collapsed": false,
    "pycharm": {
     "name": "#%%\n",
     "is_executing": false
    }
   }
  },
  {
   "cell_type": "code",
   "execution_count": 7,
   "outputs": [
    {
     "traceback": [
      "\u001b[1;31m---------------------------------------------------------------------------\u001b[0m",
      "\u001b[1;31mTypeError\u001b[0m                                 Traceback (most recent call last)",
      "\u001b[1;32m<ipython-input-7-7001ef3dcd59>\u001b[0m in \u001b[0;36m<module>\u001b[1;34m\u001b[0m\n\u001b[1;32m----> 1\u001b[1;33m \u001b[0mg1\u001b[0m \u001b[1;33m=\u001b[0m \u001b[0mGraph\u001b[0m\u001b[1;33m(\u001b[0m\u001b[1;36m10\u001b[0m\u001b[1;33m)\u001b[0m\u001b[1;33m\u001b[0m\u001b[1;33m\u001b[0m\u001b[0m\n\u001b[0m\u001b[0;32m      2\u001b[0m \u001b[1;31m#g2 = Graph(10, inf)\u001b[0m\u001b[1;33m\u001b[0m\u001b[1;33m\u001b[0m\u001b[1;33m\u001b[0m\u001b[0m\n\u001b[0;32m      3\u001b[0m \u001b[0mprint\u001b[0m\u001b[1;33m(\u001b[0m\u001b[0mstr\u001b[0m\u001b[1;33m(\u001b[0m\u001b[0mg1\u001b[0m\u001b[1;33m)\u001b[0m\u001b[1;33m)\u001b[0m\u001b[1;33m\u001b[0m\u001b[1;33m\u001b[0m\u001b[0m\n\u001b[0;32m      4\u001b[0m \u001b[1;31m#print(str(g2))\u001b[0m\u001b[1;33m\u001b[0m\u001b[1;33m\u001b[0m\u001b[1;33m\u001b[0m\u001b[0m\n\u001b[0;32m      5\u001b[0m \u001b[1;33m\u001b[0m\u001b[0m\n",
      "\u001b[1;32m<ipython-input-1-a89d78ec8a22>\u001b[0m in \u001b[0;36m__init__\u001b[1;34m(self, mat, unconn)\u001b[0m\n\u001b[0;32m      5\u001b[0m \u001b[1;32mclass\u001b[0m \u001b[0mGraph\u001b[0m\u001b[1;33m:\u001b[0m\u001b[1;33m\u001b[0m\u001b[1;33m\u001b[0m\u001b[0m\n\u001b[0;32m      6\u001b[0m     \u001b[1;32mdef\u001b[0m \u001b[0m__init__\u001b[0m\u001b[1;33m(\u001b[0m\u001b[0mself\u001b[0m\u001b[1;33m,\u001b[0m \u001b[0mmat\u001b[0m\u001b[1;33m,\u001b[0m \u001b[0munconn\u001b[0m\u001b[1;33m=\u001b[0m\u001b[1;36m0\u001b[0m\u001b[1;33m)\u001b[0m\u001b[1;33m:\u001b[0m\u001b[1;33m\u001b[0m\u001b[1;33m\u001b[0m\u001b[0m\n\u001b[1;32m----> 7\u001b[1;33m         \u001b[0mvnum\u001b[0m \u001b[1;33m=\u001b[0m \u001b[0mlen\u001b[0m\u001b[1;33m(\u001b[0m\u001b[0mmat\u001b[0m\u001b[1;33m)\u001b[0m\u001b[1;33m\u001b[0m\u001b[1;33m\u001b[0m\u001b[0m\n\u001b[0m\u001b[0;32m      8\u001b[0m         \u001b[1;32mfor\u001b[0m \u001b[0mx\u001b[0m \u001b[1;32min\u001b[0m \u001b[0mmat\u001b[0m\u001b[1;33m:\u001b[0m\u001b[1;33m\u001b[0m\u001b[1;33m\u001b[0m\u001b[0m\n\u001b[0;32m      9\u001b[0m             \u001b[1;32mif\u001b[0m \u001b[0mlen\u001b[0m\u001b[1;33m(\u001b[0m\u001b[0mx\u001b[0m\u001b[1;33m)\u001b[0m \u001b[1;33m!=\u001b[0m \u001b[0mvnum\u001b[0m\u001b[1;33m:\u001b[0m\u001b[1;33m\u001b[0m\u001b[1;33m\u001b[0m\u001b[0m\n",
      "\u001b[1;31mTypeError\u001b[0m: object of type 'int' has no len()"
     ],
     "ename": "TypeError",
     "evalue": "object of type 'int' has no len()",
     "output_type": "error"
    }
   ],
   "source": [
    "g1 = Graph(10)\n",
    "#g2 = Graph(10, inf)\n",
    "print(str(g1))\n",
    "#print(str(g2))"
   ],
   "metadata": {
    "collapsed": false,
    "pycharm": {
     "name": "#%%\n",
     "is_executing": false
    }
   }
  },
  {
   "cell_type": "code",
   "execution_count": null,
   "outputs": [],
   "source": [
    "gmat = [[0,0,3,4],[2,0,0,0],[4,1,0,0],[2,0,1,0]]\n",
    "\n",
    "g3 = GraphA(gmat, 0)\n",
    "g3.add_edge(0,3,5)\n",
    "g3.add_edge(1,3,6)\n",
    "g3.add_edge(3,1,9)\n",
    "print(str(g3))   \n",
    "    \n",
    "\n",
    "\n"
   ],
   "metadata": {
    "collapsed": false,
    "pycharm": {
     "name": "#%%\n"
    }
   }
  }
 ],
 "metadata": {
  "kernelspec": {
   "display_name": "Python 3",
   "language": "python",
   "name": "python3"
  },
  "language_info": {
   "codemirror_mode": {
    "name": "ipython",
    "version": 2
   },
   "file_extension": ".py",
   "mimetype": "text/x-python",
   "name": "python",
   "nbconvert_exporter": "python",
   "pygments_lexer": "ipython2",
   "version": "2.7.6"
  },
  "pycharm": {
   "stem_cell": {
    "cell_type": "raw",
    "source": [],
    "metadata": {
     "collapsed": false
    }
   }
  }
 },
 "nbformat": 4,
 "nbformat_minor": 0
}