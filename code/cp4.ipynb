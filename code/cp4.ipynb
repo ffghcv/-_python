{
 "cells": [
  {
   "cell_type": "markdown",
   "metadata": {
    "collapsed": true,
    "pycharm": {
     "name": "#%% md\n"
    }
   },
   "source": [
    "# 字符串\n",
    "## 朴素的串匹配算法"
   ]
  },
  {
   "cell_type": "code",
   "execution_count": 4,
   "outputs": [
    {
     "name": "stdout",
     "text": [
      "acgccagtgccatgtattgagagagdfv\n",
      "1\n"
     ],
     "output_type": "stream"
    }
   ],
   "source": [
    "s1 = 'acgccagtgccatgtattgagagagdfv'\n",
    "s2 = 'ttga'\n",
    "s3 = 'cgccag'\n",
    "print(s1)\n",
    "\n",
    "def naive_matching(target,p):\n",
    "    m, n = len(target), len(p)\n",
    "    i, j, s = 0, 0, 0\n",
    "    while i < m and j < n:\n",
    "        if target[i] == p[j]:\n",
    "            i = i+1\n",
    "            j = j+1\n",
    "        else:\n",
    "            s = s+1\n",
    "            i = s\n",
    "            j = 0\n",
    "    if j == n:\n",
    "        return s\n",
    "    return -1\n",
    "\n",
    "print(naive_matching(s1,s3))"
   ],
   "metadata": {
    "collapsed": false,
    "pycharm": {
     "name": "#%%\n",
     "is_executing": false
    }
   }
  },
  {
   "cell_type": "markdown",
   "source": [
    "## kmp算法"
   ],
   "metadata": {
    "collapsed": false,
    "pycharm": {
     "name": "#%% md\n"
    }
   }
  },
  {
   "cell_type": "code",
   "execution_count": 11,
   "outputs": [
    {
     "name": "stdout",
     "text": [
      "abbcabcaabbcaa\n",
      "[-1, 0, 0, 0, 0, 1, 2, 0, 1, 1, 2, 3, 4, 5]\n"
     ],
     "output_type": "stream"
    }
   ],
   "source": [
    "def KMP_matching(t, p, pnext):\n",
    "    j, i = 0, 0\n",
    "    n, m = len(t), len(p)\n",
    "    while j<n and i<m:\n",
    "        if i == -1 or t[j] == p[i]:\n",
    "            j, i = j+1, i+1\n",
    "        else:\n",
    "            i = pnext[i]\n",
    "    if i == m:\n",
    "        return j-i\n",
    "    return -1\n",
    "\n",
    "def gen_pnext(p):\n",
    "    i, k, m=0, -1, len(p)\n",
    "    pnext = [-1]*m\n",
    "    while i < m-1:\n",
    "        if k == -1 or p[i] == p[k]:\n",
    "            i, k = i+1, k+1\n",
    "            pnext[i] = k\n",
    "        else:\n",
    "            k = pnext[k]\n",
    "    return pnext\n",
    "ss = 'abbcabcaabbcaa'\n",
    "print(ss)\n",
    "print(gen_pnext(ss))"
   ],
   "metadata": {
    "collapsed": false,
    "pycharm": {
     "name": "#%%\n",
     "is_executing": false
    }
   }
  },
  {
   "cell_type": "code",
   "execution_count": 16,
   "outputs": [
    {
     "name": "stdout",
     "text": [
      "[-1, 0, 0, 0, -1, 0, 2, -1, 1, 0, 0, 0, -1, 5]\n"
     ],
     "output_type": "stream"
    }
   ],
   "source": [
    "def gen_pnext2(p):\n",
    "    i, k, m=0, -1, len(p)\n",
    "    pnext = [-1]*m\n",
    "    while i < m-1:\n",
    "        if k == -1 or p[i] == p[k]:\n",
    "            i, k = i+1, k+1\n",
    "            if p[i] == p[k]:\n",
    "                pnext[i] = pnext[k]\n",
    "            else:\n",
    "                pnext[i] = k\n",
    "        else:\n",
    "            k = pnext[k]\n",
    "    return pnext\n",
    "print(gen_pnext2(ss))"
   ],
   "metadata": {
    "collapsed": false,
    "pycharm": {
     "name": "#%%\n",
     "is_executing": false
    }
   }
  },
  {
   "cell_type": "markdown",
   "source": [
    "# 简化的正则表达式"
   ],
   "metadata": {
    "collapsed": false,
    "pycharm": {
     "name": "#%% md\n"
    }
   }
  },
  {
   "cell_type": "code",
   "execution_count": null,
   "outputs": [],
   "source": [
    "def match(re, text):\n",
    "    def match_here(re, i, text, j):\n",
    "        while True:\n",
    "            if i == rlen:\n",
    "                return True\n",
    "            if re[i] == '$':\n",
    "                return i+1 == rlen and j == tlen\n",
    "            if i+1 < rlen and re[i+1] == '*':\n",
    "                return match_star(re[i], re, i+2, text, j)\n",
    "            if j == tlen or (re[i] != '.' and re[i] != text[j]):\n",
    "                return False\n",
    "            i, j = i+1, j+1\n",
    "    def match_star(c, re, i, text, j):\n",
    "        for n in range(j, tlen):\n",
    "            if match_here(re, i ,text, n):\n",
    "                return True\n",
    "            if text[n] != c and c != '.':\n",
    "                break\n",
    "        return False\n",
    "      \n",
    "    \n",
    "    rlen, tlen = len(re), len(text)\n",
    "    if re[0] =='^':\n",
    "        if match_here(re, 1, text, 0):\n",
    "            return 1\n",
    "    for n in range(tlen):\n",
    "        if match_here(re, 0, text, n):\n",
    "            return n\n",
    "    return -1"
   ],
   "metadata": {
    "collapsed": false,
    "pycharm": {
     "name": "#%%\n"
    }
   }
  },
  {
   "cell_type": "markdown",
   "source": [
    "# 正则表达式"
   ],
   "metadata": {
    "collapsed": false,
    "pycharm": {
     "name": "#%% md\n"
    }
   }
  },
  {
   "cell_type": "code",
   "execution_count": 10,
   "outputs": [
    {
     "name": "stdout",
     "text": [
      "['', '', 'b', 'b', '', 'b', 'b', 'd', 'b', 'b', '', 'b', 'b', '', 'b', '', 'b', 'b', '', 'b', 'b', '']\n",
      "['', 'bb', '', '', 'bbdbb', 'bb', 'b', 'bb', 'bb']\n"
     ],
     "output_type": "stream"
    }
   ],
   "source": [
    "import re\n",
    "r1 = re.compile(\"abc\")\n",
    "r1"
   ],
   "metadata": {
    "collapsed": false,
    "pycharm": {
     "name": "#%%\n",
     "is_executing": false
    }
   }
  },
  {
   "cell_type": "code",
   "execution_count": null,
   "outputs": [],
   "source": [
    "#检索\n",
    "re.search(r1, \"aaabcbcbcsdfsfd\")"
   ],
   "metadata": {
    "collapsed": false,
    "pycharm": {
     "name": "#%%\n"
    }
   }
  },
  {
   "cell_type": "code",
   "execution_count": 24,
   "outputs": [
    {
     "name": "stdout",
     "text": [
      "<re.Match object; span=(7, 10), match='abc'>\n",
      "<re.Match object; span=(7, 10), match='abc'>\n",
      "<re.Match object; span=(0, 3), match='abc'>\n",
      "None\n",
      "<re.Match object; span=(0, 2), match='ab'>\n",
      "<re.Match object; span=(3, 7), match='abab'>\n"
     ],
     "output_type": "stream"
    }
   ],
   "source": [
    "#匹配\n",
    "re.match(r1, \"sdewrcxfdsfsdfew\")\n",
    "r2 = re.compile('abc')\n",
    "print(re.search(r2,'abbabababcdsfsbav'))\n",
    "print(re.search('abc','abbabababcdsfsbav'))\n",
    "print(re.match('abc','abcddsdfadfa'))\n",
    "print(re.match('abc','dabcddsdfadfa'))\n",
    "print(re.search('abc*','abbabababcdsfsbav'))\n",
    "print(re.search('a..b','abbabababcdsfsbav'))"
   ],
   "metadata": {
    "collapsed": false,
    "pycharm": {
     "name": "#%%\n",
     "is_executing": false
    }
   }
  },
  {
   "cell_type": "code",
   "execution_count": 28,
   "outputs": [
    {
     "name": "stdout",
     "text": [
      "['', '', 'b', 'b', '', 'b', 'b', 'd', 'b', 'b', '', 'b', 'b', '', 'b', '', 'b', 'b', '', 'b', 'b', '']\n",
      "['', 'bb', '', '', 'bbdbb', 'bb', 'b', 'bb', 'bb']\n",
      "['', 'a', 'b', 'b', 'a', 'a', 'a', 'b', 'b', 'd', 'b', 'b', 'a', 'b', 'b', 'a', 'b', 'a', 'b', 'b', 'a', 'b', 'b', '']\n",
      "<re.Match object; span=(0, 0), match=''>\n",
      "<re.Match object; span=(0, 1), match='a'>\n"
     ],
     "output_type": "stream"
    }
   ],
   "source": [
    "#分割\n",
    "re.split(\" \",\"abc sdfd are not same\")\n",
    "print(re.split(\"a*\", \"abbaaabbdbbabbababbabb\"))\n",
    "print(re.split(\"a\", \"abbaaabbdbbabbababbabb\"))\n",
    "print(re.split(\"z*\", \"abbaaabbdbbabbababbabb\"))\n",
    "print(re.search(\"z*\", \"abbaaabbdbbabbababbabb\"))\n",
    "print(re.search(\"a*\", \"abbaaabbdbbabbababbabb\"))"
   ],
   "metadata": {
    "collapsed": false,
    "pycharm": {
     "name": "#%%\n",
     "is_executing": false
    }
   }
  },
  {
   "cell_type": "code",
   "execution_count": null,
   "outputs": [],
   "source": [],
   "metadata": {
    "collapsed": false,
    "pycharm": {
     "name": "#%%"
    }
   }
  }
 ],
 "metadata": {
  "kernelspec": {
   "display_name": "Python 3",
   "language": "python",
   "name": "python3"
  },
  "language_info": {
   "codemirror_mode": {
    "name": "ipython",
    "version": 2
   },
   "file_extension": ".py",
   "mimetype": "text/x-python",
   "name": "python",
   "nbconvert_exporter": "python",
   "pygments_lexer": "ipython2",
   "version": "2.7.6"
  },
  "pycharm": {
   "stem_cell": {
    "cell_type": "raw",
    "source": [],
    "metadata": {
     "collapsed": false
    }
   }
  }
 },
 "nbformat": 4,
 "nbformat_minor": 0
}