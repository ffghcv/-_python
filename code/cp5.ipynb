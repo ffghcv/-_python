{
 "cells": [
  {
   "cell_type": "code",
   "execution_count": 5,
   "metadata": {
    "collapsed": true,
    "pycharm": {
     "is_executing": false
    }
   },
   "outputs": [
    {
     "name": "stdout",
     "text": [
      "<class '__main__.SStack'>\n",
      "[3, 6]\n",
      "6\n",
      "3\n"
     ],
     "output_type": "stream"
    }
   ],
   "source": [
    "class StackUnderflow(ValueError):\n",
    "    pass\n",
    "\n",
    "class SStack():\n",
    "    def __init__(self):\n",
    "        self._elems = []\n",
    "    \n",
    "    def is_empty(self):\n",
    "        return self._elems == []\n",
    "    \n",
    "    def top(self):\n",
    "        if self._elems == []:\n",
    "            raise StackUnderflow(\"in SStack.top()\")\n",
    "        return self._elems[-1]\n",
    "    \n",
    "    def push(self, elem):\n",
    "        self._elems.append(elem)\n",
    "        \n",
    "    def pop(self):\n",
    "        if self._elems == []:\n",
    "            raise StackUnderflow(\"in SStack.pop()\")\n",
    "        return self._elems.pop()\n",
    "    \n",
    "    def __str__(self):\n",
    "        return str(self._elems)\n",
    "\n",
    "st1 = SStack()\n",
    "st1.push(3)\n",
    "st1.push(6)\n",
    "print(type(st1))\n",
    "print(st1._elems)\n",
    "while not st1.is_empty():\n",
    "    print(st1.pop())"
   ]
  },
  {
   "cell_type": "code",
   "execution_count": 45,
   "outputs": [
    {
     "name": "stdout",
     "text": [
      "6\n"
     ],
     "output_type": "stream"
    }
   ],
   "source": [
    "test = [1,2,3,4,5,6]\n",
    "x = test.pop()\n",
    "print(x)"
   ],
   "metadata": {
    "collapsed": false,
    "pycharm": {
     "name": "#%%\n",
     "is_executing": false
    }
   }
  },
  {
   "cell_type": "code",
   "execution_count": 46,
   "outputs": [
    {
     "name": "stdout",
     "text": [
      "6\n",
      "[1, 2, 3, 4, 5]\n"
     ],
     "output_type": "stream"
    }
   ],
   "source": [
    "test = [1,2,3,4,5,6]\n",
    "print(test.pop())\n",
    "print(test)"
   ],
   "metadata": {
    "collapsed": false,
    "pycharm": {
     "name": "#%%\n",
     "is_executing": false
    }
   }
  },
  {
   "cell_type": "code",
   "execution_count": 47,
   "outputs": [],
   "source": [
    "class LNode():\n",
    "    def __init__(self, elem, next_ = None):\n",
    "        self.elem = elem\n",
    "        self.next = next_\n",
    "\n",
    "class LStack():\n",
    "    def __init__(self):\n",
    "        self._top = None\n",
    "    \n",
    "    def top(self):\n",
    "        if self._top is None:\n",
    "            raise StackUnderflow(\"in top\")\n",
    "        return self._top.elem\n",
    "    \n",
    "    def push(self, elem):\n",
    "        self._top = LNode(elem, self._top)\n",
    "        \n",
    "    def pop(self):\n",
    "        p = self._top\n",
    "        self._top = p.next\n",
    "        return p.elem"
   ],
   "metadata": {
    "collapsed": false,
    "pycharm": {
     "name": "#%%\n",
     "is_executing": false
    }
   }
  },
  {
   "cell_type": "markdown",
   "source": [
    "### 括号配对问题"
   ],
   "metadata": {
    "collapsed": false,
    "pycharm": {
     "name": "#%% md\n"
    }
   }
  },
  {
   "cell_type": "code",
   "execution_count": 48,
   "outputs": [
    {
     "name": "stdout",
     "text": [
      "getting element: ( 0\n",
      "['(']\n",
      "getting element: { 3\n",
      "['(', '{']\n",
      "getting element: } 5\n",
      "['(']\n",
      "getting element: ) 6\n",
      "[]\n",
      "getting element: { 7\n",
      "['{']\n",
      "getting element: } 8\n",
      "[]\n",
      "nmsl\n",
      "[]\n",
      "good\n"
     ],
     "output_type": "stream"
    },
    {
     "data": {
      "text/plain": "True"
     },
     "metadata": {},
     "output_type": "execute_result",
     "execution_count": 48
    }
   ],
   "source": [
    "def check_parents(text):\n",
    "    parens = \"()[]{}\"\n",
    "    open_parens = \"({[\"\n",
    "    opposite = {\")\":\"(\", \"]\":'[', '}':'{'}\n",
    "    \n",
    "    def parentheses(text):\n",
    "        i , text_len = 0, len(text)\n",
    "        while i < text_len:\n",
    "            if text[i] in parens:\n",
    "                yield text[i], i\n",
    "            i += 1\n",
    "    \n",
    "    st = SStack()\n",
    "    for pr, i in parentheses(text):\n",
    "        print(\"getting element:\",pr,i)\n",
    "        if pr in open_parens:\n",
    "            st.push(pr)\n",
    "            print(st)\n",
    "        else:\n",
    "            x = st.pop()\n",
    "            print(st)\n",
    "            if x != opposite[pr]:\n",
    "                print(\"?????\")\n",
    "                return \n",
    "    print(\"nmsl\")\n",
    "    print(st)\n",
    "    print(\"good\")\n",
    "    return True\n",
    "\n",
    "check_parents(\"(1+{2}){}12\")"
   ],
   "metadata": {
    "collapsed": false,
    "pycharm": {
     "name": "#%%\n",
     "is_executing": false
    }
   }
  },
  {
   "cell_type": "code",
   "execution_count": 49,
   "outputs": [
    {
     "name": "stdout",
     "text": [
      "[('(', 0), (')', 4), ('[', 6), ('{', 9), ('}', 13), (']', 14), ('{', 15), ('{', 16), ('{', 17), ('}', 18), ('}', 19), ('}', 20)]\n"
     ],
     "output_type": "stream"
    }
   ],
   "source": [
    "def apple(text):\n",
    "    parens = \"()[]{}\"\n",
    "    open_parens = \"({[\"\n",
    "    opposite = {\")\":\"(\", \"]\":'[', '}':'{'}    \n",
    "    i, text_len = 0, len(text)\n",
    "    while i < text_len:\n",
    "        if text[i] in parens:\n",
    "            yield text[i], i\n",
    "        i += 1\n",
    "\n",
    "text = \"(1+2)-[2+{231}]{{{}}}1221\"\n",
    "print([i for i in apple(text)])"
   ],
   "metadata": {
    "collapsed": false,
    "pycharm": {
     "name": "#%%\n",
     "is_executing": false
    }
   }
  },
  {
   "cell_type": "markdown",
   "source": [
    "### 后缀表达式"
   ],
   "metadata": {
    "collapsed": false,
    "pycharm": {
     "name": "#%% md\n"
    }
   }
  },
  {
   "cell_type": "code",
   "execution_count": 54,
   "outputs": [
    {
     "data": {
      "text/plain": "'\\ndef suffix_exp_calculator():\\n    while True:\\n        try:\\n            line = input()\\n'"
     },
     "metadata": {},
     "output_type": "execute_result",
     "execution_count": 54
    }
   ],
   "source": [
    "class ESStack(SStack):\n",
    "    def depth(self):\n",
    "        return len(self._elems)\n",
    "    \n",
    "def suf_exp_evaluator(exp):\n",
    "    operators = '+-*/'\n",
    "    st = ESStack()\n",
    "    \n",
    "    for x in exp:\n",
    "        if x not in operators:\n",
    "            st.push(float(x))\n",
    "            continue\n",
    "        if st.depth()<2:\n",
    "            raise SyntaxError(\"short of operand\")\n",
    "        a = st.pop()\n",
    "        b = st.pop()\n",
    "        if x == \"+\":\n",
    "            c = a + b\n",
    "        elif x == '-':\n",
    "            c = b - a\n",
    "        elif x == '*':\n",
    "            c = b * a\n",
    "        elif x == '/':\n",
    "            c = b / a\n",
    "        else:\n",
    "            break\n",
    "        st.push(c)\n",
    "    \n",
    "    if st.depth() == 1:\n",
    "        return st.pop()\n",
    "    raise SyntaxError(\"Extra operand\")\n",
    "\n",
    "def suffix_exp_evaluator(line):\n",
    "    return suf_exp_evaluator(line.split())\n",
    "\n",
    "\"\"\"\n",
    "def suffix_exp_calculator():\n",
    "    while True:\n",
    "        try:\n",
    "            line = input(\"Suffix Expression : \")\n",
    "            if line == \"end\": return\n",
    "            res = suffix_exp_evaluator(line)\n",
    "            print(res)\n",
    "        except Exception as ex:\n",
    "            print(\"Error:\", type(ex), ex.args)\n",
    "\"\"\""
   ],
   "metadata": {
    "collapsed": false,
    "pycharm": {
     "name": "#%%\n",
     "is_executing": false
    }
   }
  },
  {
   "cell_type": "code",
   "execution_count": 53,
   "outputs": [
    {
     "name": "stdout",
     "text": [
      "['3', '5', '-', '6', '17', '4', '*', '+', '*', '3', '/']\n",
      "-49.333333333333336\n"
     ],
     "output_type": "stream"
    }
   ],
   "source": [
    "a = \"3 5 - 6 17 4 * + * 3 /\"\n",
    "print(a.split())\n",
    "print(suffix_exp_evaluator(a))"
   ],
   "metadata": {
    "collapsed": false,
    "pycharm": {
     "name": "#%%\n",
     "is_executing": false
    }
   }
  },
  {
   "cell_type": "code",
   "execution_count": 2,
   "outputs": [
    {
     "name": "stdout",
     "text": [
      "3\n"
     ],
     "output_type": "stream"
    }
   ],
   "source": [
    "x = True\n",
    "y = False\n",
    "z = False\n",
    " \n",
    "if not x or y:\n",
    "    print(1)\n",
    "elif not x or not y and z:\n",
    "    print(2)\n",
    "elif not x or y or not y and x:\n",
    "    print(3)\n",
    "else:\n",
    "    print(4)"
   ],
   "metadata": {
    "collapsed": false,
    "pycharm": {
     "name": "#%%\n",
     "is_executing": false
    }
   }
  },
  {
   "cell_type": "markdown",
   "source": [
    "### 用栈来定义递归"
   ],
   "metadata": {
    "collapsed": false,
    "pycharm": {
     "name": "#%% md\n",
     "is_executing": false
    }
   }
  },
  {
   "cell_type": "code",
   "execution_count": 6,
   "outputs": [
    {
     "data": {
      "text/plain": "120"
     },
     "metadata": {},
     "output_type": "execute_result",
     "execution_count": 6
    }
   ],
   "source": [
    "def norec_fact(n):\n",
    "    res = 1\n",
    "    st = SStack()\n",
    "    while n > 0:\n",
    "        st.push(n)\n",
    "        n -= 1\n",
    "    while not st.is_empty():\n",
    "        res *= st.pop()\n",
    "    return res\n",
    "\n",
    "norec_fact(5)"
   ],
   "metadata": {
    "collapsed": false,
    "pycharm": {
     "name": "#%%\n",
     "is_executing": false
    }
   }
  },
  {
   "cell_type": "markdown",
   "source": [
    "# 用 list 实现队列"
   ],
   "metadata": {
    "collapsed": false,
    "pycharm": {
     "name": "#%% md\n"
    }
   }
  },
  {
   "cell_type": "code",
   "execution_count": null,
   "outputs": [],
   "source": [
    "class QueueUnderFlow(ValueError):\n",
    "    pass\n",
    "\n",
    "class SQueue():\n",
    "    def __init__(self, init_len = 8):\n",
    "        self._len = init_len\n",
    "        self._elems = [0] * init_len\n",
    "        self._head = 0\n",
    "        self._num = 0\n",
    "    \n",
    "    def is_empty(self):\n",
    "        return self._num == 0\n",
    "    \n",
    "    def peek(self):\n",
    "        if self._num == 0:\n",
    "            raise QueueUnderFlow\n",
    "        return self._elems[self._head]\n",
    "    \n",
    "    def dequeue(self):\n",
    "        if self._num == 0:\n",
    "            raise QueueUnderFlow\n",
    "        e = self._elems[self._head]\n",
    "        self._head = (self._head + 1) % self._len\n",
    "        self._num -= 1\n",
    "        return e\n",
    "    \n",
    "    def __extend(self):\n",
    "        old_len = self._len\n",
    "        self._len *= 2\n",
    "        new_elems = [0]*self._len\n",
    "        for i in range(old_len):\n",
    "            new_elems[i] = self._elems[(self._head + i) % old_len]\n",
    "        self._elems, self._head = new_elems, 0\n",
    "    \n",
    "    def enqueue(self, e):\n",
    "        if self._num == self._len:\n",
    "            self.__extend()\n",
    "        self._elems[(self._head + self._num) % self._len] = e\n",
    "        self._num += 1\n",
    "        \n",
    "    \n",
    "    "
   ],
   "metadata": {
    "collapsed": false,
    "pycharm": {
     "name": "#%%\n"
    }
   }
  }
 ],
 "metadata": {
  "kernelspec": {
   "display_name": "Python 3",
   "language": "python",
   "name": "python3"
  },
  "language_info": {
   "codemirror_mode": {
    "name": "ipython",
    "version": 2
   },
   "file_extension": ".py",
   "mimetype": "text/x-python",
   "name": "python",
   "nbconvert_exporter": "python",
   "pygments_lexer": "ipython2",
   "version": "2.7.6"
  },
  "pycharm": {
   "stem_cell": {
    "cell_type": "raw",
    "source": [],
    "metadata": {
     "collapsed": false
    }
   }
  }
 },
 "nbformat": 4,
 "nbformat_minor": 0
}