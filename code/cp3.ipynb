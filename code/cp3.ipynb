{
 "cells": [
  {
   "cell_type": "markdown",
   "metadata": {
    "collapsed": true,
    "pycharm": {
     "name": "#%% md\n"
    }
   },
   "source": [
    "# 线性表\n",
    "## 链接表"
   ]
  },
  {
   "cell_type": "code",
   "execution_count": 5,
   "outputs": [
    {
     "name": "stdout",
     "text": [
      "<__main__.LNode object at 0x00000223692AD6C8>\n"
     ],
     "output_type": "stream"
    }
   ],
   "source": [
    "class LNode:\n",
    "    def __init__(self, elem, next_ = None):\n",
    "        self.elem = elem\n",
    "        self.next_ = next_\n",
    "        \n",
    "q = LNode(13)\n",
    "print(q)"
   ],
   "metadata": {
    "collapsed": false,
    "pycharm": {
     "name": "#%%\n",
     "is_executing": false
    }
   }
  },
  {
   "cell_type": "code",
   "execution_count": 6,
   "outputs": [
    {
     "name": "stdout",
     "text": [
      "<class '__main__.LNode'>\n",
      "1\n",
      "<__main__.LNode object at 0x000002236912EE08>\n",
      "2\n",
      "<__main__.LNode object at 0x000002236912EF48>\n"
     ],
     "output_type": "stream"
    }
   ],
   "source": [
    "llist1 = LNode(1)\n",
    "p = llist1\n",
    "for i in range(2,11):\n",
    "    p.next_ = LNode(i)\n",
    "    p = p.next_\n",
    "    \n",
    "print(type(llist1))\n",
    "print(llist1.elem)\n",
    "print(llist1.next_)\n",
    "print(llist1.next_.elem)\n",
    "print(llist1.next_.next_)"
   ],
   "metadata": {
    "collapsed": false,
    "pycharm": {
     "name": "#%%\n",
     "is_executing": false
    }
   }
  },
  {
   "cell_type": "code",
   "execution_count": 7,
   "outputs": [
    {
     "name": "stdout",
     "text": [
      "1\n",
      "2\n",
      "3\n",
      "4\n",
      "5\n",
      "6\n",
      "7\n",
      "8\n",
      "9\n",
      "10\n"
     ],
     "output_type": "stream"
    }
   ],
   "source": [
    "p = llist1\n",
    "while p is not None:\n",
    "    print(p.elem)\n",
    "    p = p.next_"
   ],
   "metadata": {
    "collapsed": false,
    "pycharm": {
     "name": "#%%\n",
     "is_executing": false
    }
   }
  },
  {
   "cell_type": "code",
   "execution_count": 8,
   "outputs": [
    {
     "name": "stdout",
     "text": [
      "4, 3, 2, 1, 0, 11, 12, 13, 14\n",
      "9\n"
     ],
     "output_type": "stream"
    }
   ],
   "source": [
    "class LinkedListUnderflow(ValueError):\n",
    "    pass\n",
    "\n",
    "class LList:\n",
    "    def __init__(self):\n",
    "        self._head = None\n",
    "    \n",
    "    def is_empty(self):\n",
    "        return self._head is None\n",
    "    \n",
    "    # 在表头加入元素\n",
    "    def prepend(self, elem):\n",
    "        self._head = LNode(elem, self._head)\n",
    "    \n",
    "    # 删除表头\n",
    "    def pop(self):\n",
    "        if self._head is None:\n",
    "            raise LinkedListUnderflow(\"In pop\")\n",
    "        e = self._head.elem\n",
    "        self._head = self._head.next_\n",
    "        return e\n",
    "    \n",
    "    # 在最后插入元素\n",
    "    def append(self, elem):\n",
    "        if self._head is None:\n",
    "            self._head = LNode(elem)\n",
    "            return\n",
    "        p = self._head\n",
    "        while p.next_ is not None:\n",
    "            p = p.next_\n",
    "        p.next_ = LNode(elem)\n",
    "        \n",
    "    def pop_last(self):\n",
    "        if self._head is None:\n",
    "            raise LinkedListUnderflow(\"In pop_last\")\n",
    "        p = self._head\n",
    "        if p.next_ is None:\n",
    "            e = p.elem\n",
    "            self._head = None\n",
    "            return e\n",
    "        while p.next_.next_ is not None:\n",
    "            p = p.next_\n",
    "        e = p.next_.elem\n",
    "        p.next_ = None\n",
    "        return e\n",
    "    \n",
    "    def printall(self):\n",
    "        p = self._head\n",
    "        while p is not None:\n",
    "            print(p.elem, end=\"\")\n",
    "            if p.next_ is not None:\n",
    "                print(\", \", end=\"\")\n",
    "            p = p.next_\n",
    "        print(\"\")\n",
    "        \n",
    "    #遍历\n",
    "    def for_each(self, proc):\n",
    "        p = self._head\n",
    "        while p is not None:\n",
    "            proc(p.elem)\n",
    "            p = p.next_\n",
    "            \n",
    "    #生成器函数\n",
    "    def elements(self):\n",
    "        p = self._head\n",
    "        while p is not None:\n",
    "            yield p.elem\n",
    "            p = p.next_\n",
    "                \n",
    "    # 不实用， 找到第一个满足条件的值\n",
    "    def find(self, pred):\n",
    "        p = self._head\n",
    "        while p is not None:\n",
    "            if pred(p.elem):\n",
    "                return p.elem\n",
    "            p = p.next_\n",
    "            \n",
    "    # 更实用的方法\n",
    "    def filter(self, pred):\n",
    "        p = self._head\n",
    "        while p is not None:\n",
    "            if pred(p.elem):\n",
    "                yield p.elem\n",
    "            p = p.next_\n",
    "            \n",
    "    def numbers(self):\n",
    "        p = self._head\n",
    "        i = 0\n",
    "        while p is not None:\n",
    "            i += 1\n",
    "            p = p.next_\n",
    "        return i\n",
    "    \n",
    "\n",
    "mlist1 = LList()\n",
    "for i in range(5):\n",
    "    mlist1.prepend(i)\n",
    "for i in range(11, 15):\n",
    "    mlist1.append(i)\n",
    "mlist1.printall()\n",
    "print(mlist1.numbers())"
   ],
   "metadata": {
    "collapsed": false,
    "pycharm": {
     "name": "#%%\n",
     "is_executing": false
    }
   }
  },
  {
   "cell_type": "code",
   "execution_count": 9,
   "outputs": [
    {
     "name": "stdout",
     "text": [
      "4\n",
      "3\n",
      "2\n",
      "1\n",
      "0\n",
      "11\n",
      "12\n",
      "13\n",
      "14\n"
     ],
     "output_type": "stream"
    }
   ],
   "source": [
    "mlist1.for_each(print)"
   ],
   "metadata": {
    "collapsed": false,
    "pycharm": {
     "name": "#%%\n",
     "is_executing": false
    }
   }
  },
  {
   "cell_type": "markdown",
   "source": [
    "### 遍历 + lambda"
   ],
   "metadata": {
    "collapsed": false,
    "pycharm": {
     "name": "#%% md\n"
    }
   }
  },
  {
   "cell_type": "code",
   "execution_count": 10,
   "outputs": [
    {
     "name": "stdout",
     "text": [
      "40\n",
      "30\n",
      "20\n",
      "10\n",
      "0\n",
      "110\n",
      "120\n",
      "130\n",
      "140\n"
     ],
     "output_type": "stream"
    }
   ],
   "source": [
    "mlist1.for_each(\n",
    "    lambda x: print(x*10)\n",
    ")"
   ],
   "metadata": {
    "collapsed": false,
    "pycharm": {
     "name": "#%%\n",
     "is_executing": false
    }
   }
  },
  {
   "cell_type": "markdown",
   "source": [
    "### 生成器函数"
   ],
   "metadata": {
    "collapsed": false,
    "pycharm": {
     "name": "#%% md\n"
    }
   }
  },
  {
   "cell_type": "code",
   "execution_count": 11,
   "outputs": [
    {
     "name": "stdout",
     "text": [
      "4\n",
      "3\n",
      "2\n",
      "1\n",
      "0\n",
      "11\n",
      "12\n",
      "13\n",
      "14\n"
     ],
     "output_type": "stream"
    }
   ],
   "source": [
    "for x in mlist1.elements():\n",
    "    print(x)\n",
    "    "
   ],
   "metadata": {
    "collapsed": false,
    "pycharm": {
     "name": "#%%\n",
     "is_executing": false
    }
   }
  },
  {
   "cell_type": "code",
   "execution_count": 12,
   "outputs": [
    {
     "data": {
      "text/plain": "<generator object LList.filter at 0x0000022368817DC8>"
     },
     "metadata": {},
     "output_type": "execute_result",
     "execution_count": 12
    }
   ],
   "source": [
    "mlist1.filter(\n",
    "    lambda x: x if x >5 else x - 10\n",
    ")"
   ],
   "metadata": {
    "collapsed": false,
    "pycharm": {
     "name": "#%%\n",
     "is_executing": false
    }
   }
  },
  {
   "cell_type": "markdown",
   "source": [
    "## 单链表"
   ],
   "metadata": {
    "collapsed": false,
    "pycharm": {
     "name": "#%% md\n"
    }
   }
  },
  {
   "cell_type": "code",
   "execution_count": 13,
   "outputs": [
    {
     "name": "stdout",
     "text": [
      "89\n",
      "99, 2, 10, 4, 8, 4, 10, 8, 13, 10, 12, 8, 6, 4, 12, 8, 17, 20, 17, 18, 2, 12, 5, 5, 6, 1, 2, 1, 19, 10, 10, 1, 15, 9, 17, 5, 17, 15, 9, 14, 4, 8, 2, 12, 6, 7, 8, 8, 17, 2, 1, 6, 1, 17, 10, 2, 16, 7, 2, 18, 1, 2, 1, 14, 8, 1, 13, 17, 5, 3, 7, 15, 3, 12, 7, 6, 8, 17, 6, 3, 7, 18, 4, 13, 6, 18, 14, 15, 18\n",
      "99\n",
      "20\n",
      "19\n"
     ],
     "output_type": "stream"
    }
   ],
   "source": [
    "class LList1(LList):\n",
    "    def __int__(self):\n",
    "        LList.__init__(self)\n",
    "        self._rear = None\n",
    "    \"\"\"\n",
    "    def prepend(self, elem):\n",
    "        self._head = LNode(elem, self._head)\n",
    "        if self._rear is None:\n",
    "            self._rear = self._head    \n",
    "    \"\"\"\n",
    "    def prepend(self, elem):\n",
    "        if self._head is None:\n",
    "            self._head = LNode(elem, self._head)\n",
    "            self._rear = self._head\n",
    "        else:\n",
    "            self._head = LNode(elem, self._head)\n",
    "    \n",
    "    # 增加尾节点的主要目的\n",
    "    def append(self, elem):\n",
    "        if self._head is None:\n",
    "            self._head = LNode(elem, self._head)\n",
    "            self._rear = self._head\n",
    "        else: \n",
    "            self._rear.next_ = LNode(elem)\n",
    "            self._rear = self._rear.next_\n",
    "    \n",
    "    # pop不需要重新定义\n",
    "    \n",
    "    # 改最后的元素\n",
    "    def pop_last(self):\n",
    "        if self._head is None:\n",
    "            raise LinkedListUnderflow(\"In Pop_last\")\n",
    "        p = self._head\n",
    "        if p.next_ is None:\n",
    "            e = p.elem\n",
    "            self._head = None\n",
    "            return e\n",
    "        while p.next_.next_ is not None:\n",
    "            p = p.next_\n",
    "        e = p.next_.elem\n",
    "        p.next_ = None\n",
    "        self._rear = p\n",
    "        return e\n",
    "    \n",
    "    \n",
    "   \n",
    "import random\n",
    "mlist2 = LList1()\n",
    "mlist2.prepend(99)\n",
    "for i in range(11,99):\n",
    "    mlist2.append(random.randint(1,20))\n",
    "\n",
    "print(mlist2.numbers())\n",
    "mlist2.printall()\n",
    "\n",
    "for x in mlist2.filter(\n",
    "    lambda y: y > 18\n",
    "):\n",
    "    print(x)\n",
    "\n"
   ],
   "metadata": {
    "collapsed": false,
    "pycharm": {
     "name": "#%%\n",
     "is_executing": false
    }
   }
  },
  {
   "cell_type": "markdown",
   "source": [
    "## 循环单链表"
   ],
   "metadata": {
    "collapsed": false,
    "pycharm": {
     "name": "#%% md\n"
    }
   }
  },
  {
   "cell_type": "code",
   "execution_count": 14,
   "outputs": [],
   "source": [
    "class LCList:\n",
    "    def __init__(self):\n",
    "        self._rear = None\n",
    "    \n",
    "    def is_empty(self):\n",
    "        return self._rear is None\n",
    "    \n",
    "    def prepend(self, elem):\n",
    "        p = LNode(elem)\n",
    "        if self._rear is None:\n",
    "            p.next_ = p\n",
    "            self._rear.next_ = p\n",
    "        else:\n",
    "            p.next_ = self._rear.next_\n",
    "            self._rear.next_ = p\n",
    "    \n",
    "    def append(self, elem):\n",
    "        self.prepend(elem)\n",
    "        self._rear = self._rear.next_\n",
    "        \n",
    "    def pop(self):\n",
    "        if self._rear is None:\n",
    "            raise LinkedListUnderflow(\"pop\")\n",
    "        p = self._rear.next_\n",
    "        if self._rear is p:\n",
    "            self._rear = None\n",
    "        else:\n",
    "            self._rear.next_ = p.next_\n",
    "        return p.elem\n",
    "    \n",
    "    def printall(self):\n",
    "        if self.is_empty():\n",
    "            return\n",
    "        p = self._rear.next_\n",
    "        while True:\n",
    "            print(p.elem)\n",
    "            if p is self._rear:\n",
    "                break\n",
    "            p = p.next_"
   ],
   "metadata": {
    "collapsed": false,
    "pycharm": {
     "name": "#%%\n",
     "is_executing": false
    }
   }
  },
  {
   "cell_type": "markdown",
   "source": [
    "#双链表"
   ],
   "metadata": {
    "collapsed": false,
    "pycharm": {
     "name": "#%% md\n"
    }
   }
  },
  {
   "cell_type": "code",
   "execution_count": 16,
   "outputs": [],
   "source": [
    "class DLNode(LNode):\n",
    "    def __init__(self, elem, prev = None, next_ = None):\n",
    "        LNode.__init__(self, elem, next_)\n",
    "        self.prev = prev\n",
    "\n",
    "class DLList(LList1):\n",
    "    def __init__(self):\n",
    "        LList1.__init__()\n",
    "        #self._head = None\n",
    "        #self._rear = None\n",
    "        \n",
    "    def prepend(self, elem):\n",
    "        p = DLNode(elem, None, self._head)\n",
    "        if self._head is None:\n",
    "            self._rear = p\n",
    "        else:\n",
    "            p.next_.prev = p\n",
    "        self._head = p\n",
    "    \n",
    "    def append(self, elem):\n",
    "        p = DLNode(elem, self._rear, None)\n",
    "        if self._head is None:\n",
    "            self._head = p\n",
    "        else:\n",
    "            p.prev.next_ = p\n",
    "        self._rear = p\n",
    "    \n",
    "    \n"
   ],
   "metadata": {
    "collapsed": false,
    "pycharm": {
     "name": "#%%\n",
     "is_executing": false
    }
   }
  },
  {
   "cell_type": "markdown",
   "source": [
    "# 重要的链接操作"
   ],
   "metadata": {
    "collapsed": false,
    "pycharm": {
     "name": "#%% md\n"
    }
   }
  },
  {
   "cell_type": "code",
   "execution_count": null,
   "outputs": [],
   "source": [],
   "metadata": {
    "collapsed": false,
    "pycharm": {
     "name": "#%%\n"
    }
   }
  }
 ],
 "metadata": {
  "kernelspec": {
   "display_name": "Python 3",
   "language": "python",
   "name": "python3"
  },
  "language_info": {
   "codemirror_mode": {
    "name": "ipython",
    "version": 2
   },
   "file_extension": ".py",
   "mimetype": "text/x-python",
   "name": "python",
   "nbconvert_exporter": "python",
   "pygments_lexer": "ipython2",
   "version": "2.7.6"
  },
  "pycharm": {
   "stem_cell": {
    "cell_type": "raw",
    "source": [],
    "metadata": {
     "collapsed": false
    }
   }
  }
 },
 "nbformat": 4,
 "nbformat_minor": 0
}