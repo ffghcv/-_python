{
 "cells": [
  {
   "cell_type": "markdown",
   "metadata": {
    "collapsed": true,
    "pycharm": {
     "name": "#%% md\n"
    }
   },
   "source": [
    "# 线性表\n",
    "## 链接表"
   ]
  },
  {
   "cell_type": "code",
   "execution_count": 1,
   "outputs": [
    {
     "name": "stdout",
     "text": [
      "<__main__.LNode object at 0x0000026ECFC8AD48>\n"
     ],
     "output_type": "stream"
    }
   ],
   "source": [
    "class LNode:\n",
    "    def __init__(self, elem, next_ = None):\n",
    "        self.elem = elem\n",
    "        self.next_ = next_\n",
    "        \n",
    "q = LNode(13)\n",
    "print(q)"
   ],
   "metadata": {
    "collapsed": false,
    "pycharm": {
     "name": "#%%\n",
     "is_executing": false
    }
   }
  },
  {
   "cell_type": "code",
   "execution_count": 11,
   "outputs": [
    {
     "name": "stdout",
     "text": [
      "<class '__main__.LNode'>\n",
      "1\n",
      "<__main__.LNode object at 0x0000026ED11CF448>\n",
      "2\n",
      "<__main__.LNode object at 0x0000026ED18EE108>\n"
     ],
     "output_type": "stream"
    }
   ],
   "source": [
    "llist1 = LNode(1)\n",
    "p = llist1\n",
    "for i in range(2,11):\n",
    "    p.next_ = LNode(i)\n",
    "    p = p.next_\n",
    "    \n",
    "print(type(llist1))\n",
    "print(llist1.elem)\n",
    "print(llist1.next_)\n",
    "print(llist1.next_.elem)\n",
    "print(llist1.next_.next_)"
   ],
   "metadata": {
    "collapsed": false,
    "pycharm": {
     "name": "#%%\n",
     "is_executing": false
    }
   }
  },
  {
   "cell_type": "code",
   "execution_count": null,
   "outputs": [],
   "source": [
    "p = llist1\n",
    "while p is not None:\n",
    "    print(p.elem)\n",
    "    p = p.next_"
   ],
   "metadata": {
    "collapsed": false,
    "pycharm": {
     "name": "#%%\n"
    }
   }
  },
  {
   "cell_type": "code",
   "execution_count": 37,
   "outputs": [
    {
     "name": "stdout",
     "text": [
      "9, 8, 7, 6, 5, 4, 3, 2, 1, 0, 11, 12, 13, 14, 15, 16, 17, 18, 19\n"
     ],
     "output_type": "stream"
    }
   ],
   "source": [
    "class LinkedListUnderflow(ValueError):\n",
    "    pass\n",
    "\n",
    "class LList:\n",
    "    def __init__(self):\n",
    "        self._head = None\n",
    "    \n",
    "    def is_empty(self):\n",
    "        return self._head is None\n",
    "    \n",
    "    # 在表头加入元素\n",
    "    def prepend(self, elem):\n",
    "        self._head = LNode(elem, self._head)\n",
    "    \n",
    "    # 删除表头\n",
    "    def pop(self):\n",
    "        if self._head is None:\n",
    "            raise LinkedListUnderflow(\"In pop\")\n",
    "        e = self._head.elem\n",
    "        self._head = self._head.next_\n",
    "        return e\n",
    "    \n",
    "    # 在最后插入元素\n",
    "    def append(self, elem):\n",
    "        if self._head is None:\n",
    "            self._head = LNode(elem)\n",
    "            return\n",
    "        p = self._head\n",
    "        while p.next_ is not None:\n",
    "            p = p.next_\n",
    "        p.next_ = LNode(elem)\n",
    "        \n",
    "    def pop_last(self):\n",
    "        if self._head is None:\n",
    "            raise LinkedListUnderflow(\"In pop_last\")\n",
    "        p = self._head\n",
    "        if p.next_ is None:\n",
    "            e = p.elem\n",
    "            self._head = None\n",
    "            return e\n",
    "        while p.next_.next_ is not None:\n",
    "            p = p.next_\n",
    "        e = p.next_.elem\n",
    "        p.next_ = None\n",
    "        return e\n",
    "    \n",
    "    def printall(self):\n",
    "        p = self._head\n",
    "        while p is not None:\n",
    "            print(p.elem, end=\"\")\n",
    "            if p.next_ is not None:\n",
    "                print(\", \", end=\"\")\n",
    "            p = p.next_\n",
    "        print(\"\")\n",
    "        \n",
    "    #遍历\n",
    "    def for_each(self, proc):\n",
    "        p = self._head\n",
    "        while p is not None:\n",
    "            proc(p.elem)\n",
    "            p = p.next_\n",
    "            \n",
    "    #生成器函数\n",
    "    def elements(self):\n",
    "        p = self._head\n",
    "        while p is not None:\n",
    "            yield p.elem\n",
    "            p = p.next_\n",
    "                \n",
    "    # 不实用， 找到第一个满足条件的值\n",
    "    def find(self, pred):\n",
    "        p = self._head\n",
    "        while p is not None:\n",
    "            if pred(p.elem):\n",
    "                return p.elem\n",
    "            p = p.next_\n",
    "            \n",
    "    # 更实用的方法\n",
    "    def filter(self, pred):\n",
    "        p = self._head\n",
    "        while p is not None:\n",
    "            if pred(p.elem):\n",
    "                yield p.elem\n",
    "            p = p.next_\n",
    "    \n",
    "\n",
    "mlist1 = LList()\n",
    "for i in range(10):\n",
    "    mlist1.prepend(i)\n",
    "for i in range(11, 20):\n",
    "    mlist1.append(i)\n",
    "mlist1.printall()"
   ],
   "metadata": {
    "collapsed": false,
    "pycharm": {
     "name": "#%%\n",
     "is_executing": false
    }
   }
  },
  {
   "cell_type": "code",
   "execution_count": 23,
   "outputs": [
    {
     "name": "stdout",
     "text": [
      "9\n",
      "8\n",
      "7\n",
      "6\n",
      "5\n",
      "4\n",
      "3\n",
      "2\n",
      "1\n",
      "0\n",
      "11\n",
      "12\n",
      "13\n",
      "14\n",
      "15\n",
      "16\n",
      "17\n",
      "18\n",
      "19\n"
     ],
     "output_type": "stream"
    }
   ],
   "source": [
    "mlist1.for_each(print)"
   ],
   "metadata": {
    "collapsed": false,
    "pycharm": {
     "name": "#%%\n",
     "is_executing": false
    }
   }
  },
  {
   "cell_type": "markdown",
   "source": [
    "### 遍历 + lambda"
   ],
   "metadata": {
    "collapsed": false,
    "pycharm": {
     "name": "#%% md\n"
    }
   }
  },
  {
   "cell_type": "code",
   "execution_count": 24,
   "outputs": [
    {
     "name": "stdout",
     "text": [
      "90\n",
      "80\n",
      "70\n",
      "60\n",
      "50\n",
      "40\n",
      "30\n",
      "20\n",
      "10\n",
      "0\n",
      "110\n",
      "120\n",
      "130\n",
      "140\n",
      "150\n",
      "160\n",
      "170\n",
      "180\n",
      "190\n"
     ],
     "output_type": "stream"
    }
   ],
   "source": [
    "mlist1.for_each(\n",
    "    lambda x: print(x*10)\n",
    ")"
   ],
   "metadata": {
    "collapsed": false,
    "pycharm": {
     "name": "#%%\n",
     "is_executing": false
    }
   }
  },
  {
   "cell_type": "markdown",
   "source": [
    "### 生成器函数"
   ],
   "metadata": {
    "collapsed": false,
    "pycharm": {
     "name": "#%% md\n"
    }
   }
  },
  {
   "cell_type": "code",
   "execution_count": 38,
   "outputs": [
    {
     "name": "stdout",
     "text": [
      "9\n",
      "8\n",
      "7\n",
      "6\n",
      "5\n",
      "4\n",
      "3\n",
      "2\n",
      "1\n",
      "0\n",
      "11\n",
      "12\n",
      "13\n",
      "14\n",
      "15\n",
      "16\n",
      "17\n",
      "18\n",
      "19\n"
     ],
     "output_type": "stream"
    }
   ],
   "source": [
    "for x in mlist1.elements():\n",
    "    print(x)\n",
    "    "
   ],
   "metadata": {
    "collapsed": false,
    "pycharm": {
     "name": "#%%\n",
     "is_executing": false
    }
   }
  },
  {
   "cell_type": "code",
   "execution_count": 41,
   "outputs": [
    {
     "name": "stdout",
     "text": [
      "<generator object LList.filter at 0x0000026ED0E123C8>\n"
     ],
     "output_type": "stream"
    }
   ],
   "source": [
    "mlist1.filter(\n",
    "    lambda x: x if x >5 else x - 10\n",
    ")"
   ],
   "metadata": {
    "collapsed": false,
    "pycharm": {
     "name": "#%%\n",
     "is_executing": false
    }
   }
  },
  {
   "cell_type": "markdown",
   "source": [
    "## 单链表"
   ],
   "metadata": {
    "collapsed": false,
    "pycharm": {
     "name": "#%% md\n"
    }
   }
  },
  {
   "cell_type": "code",
   "execution_count": null,
   "outputs": [],
   "source": [
    "class LList1(LList):\n",
    "    def __int__(self):\n",
    "        LList.__init__(self)\n",
    "        self._rear = None\n",
    "    \"\"\"\n",
    "    def prepend(self, elem):\n",
    "        self._head = LNode(elem, self._head)\n",
    "        if self._rear is None:\n",
    "            self._rear = self._head    \n",
    "    \"\"\"\n",
    "    def prepend(self, elem):\n",
    "        if self._head is None:\n",
    "            self._head = LNode(elem, self._head)\n",
    "            self._rear = self._head\n",
    "        else:\n",
    "            self._head = LNode(elem, self._head)\n",
    "    \n",
    "    # 增加尾节点的主要目的\n",
    "    def append(self, elem):\n",
    "        if self._head is None:\n",
    "            self._head = LNode(elem, self._head)\n",
    "            self._rear = self._head\n",
    "        else: \n",
    "            self._rear.next_ = LNode(elem)\n",
    "            self._rear = self._rear.next_\n",
    "    \n"
   ],
   "metadata": {
    "collapsed": false,
    "pycharm": {
     "name": "#%%\n"
    }
   }
  }
 ],
 "metadata": {
  "kernelspec": {
   "display_name": "Python 3",
   "language": "python",
   "name": "python3"
  },
  "language_info": {
   "codemirror_mode": {
    "name": "ipython",
    "version": 2
   },
   "file_extension": ".py",
   "mimetype": "text/x-python",
   "name": "python",
   "nbconvert_exporter": "python",
   "pygments_lexer": "ipython2",
   "version": "2.7.6"
  },
  "pycharm": {
   "stem_cell": {
    "cell_type": "raw",
    "source": [],
    "metadata": {
     "collapsed": false
    }
   }
  }
 },
 "nbformat": 4,
 "nbformat_minor": 0
}