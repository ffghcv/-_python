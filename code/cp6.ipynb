{
 "cells": [
  {
   "cell_type": "markdown",
   "metadata": {
    "collapsed": true,
    "pycharm": {
     "name": "#%% md\n"
    }
   },
   "source": [
    "# 二叉树"
   ]
  },
  {
   "cell_type": "code",
   "execution_count": 22,
   "outputs": [
    {
     "name": "stdout",
     "text": [
      "[2, 2, 3]\n",
      "[2, [None, 4, None], [None, 8, None]]\n"
     ],
     "output_type": "stream"
    }
   ],
   "source": [
    "def BinTree(data, left=None, right = None):\n",
    "    return [data, left, right]\n",
    "\n",
    "def is_empty(btree):\n",
    "    return btree is None    \n",
    "\n",
    "print(BinTree(2,2,3))\n",
    "\n",
    "print(BinTree(2, BinTree(None, 4), BinTree(None, 8)))\n"
   ],
   "metadata": {
    "collapsed": false,
    "pycharm": {
     "name": "#%%\n",
     "is_executing": false
    }
   }
  },
  {
   "cell_type": "code",
   "execution_count": 34,
   "outputs": [
    {
     "name": "stdout",
     "text": [
      "[2, 2, 3]\n",
      "[2, [4, None, None], [8, None, None]]\n",
      "False\n",
      "2\n",
      "[4, None, None]\n",
      "[10, 2, 3]\n"
     ],
     "output_type": "stream"
    }
   ],
   "source": [
    "class Simple_Bintree():\n",
    "    def __init__(self, data, left = None, right = None):\n",
    "        self.data = data\n",
    "        self.left = left\n",
    "        self.right = right\n",
    "      \n",
    "    def BinTree(self):\n",
    "        return [self.data, self.left, self.right]\n",
    "    \n",
    "    def is_empty(self):\n",
    "        return self.BinTree() is None\n",
    "    \n",
    "    def root(self):\n",
    "        return self.data\n",
    "    \n",
    "    def get_left(self):\n",
    "        return self.BinTree()[1]\n",
    "    \n",
    "    def get_right(self):\n",
    "        return self.BinTree()[2]\n",
    "    \n",
    "    def set_root(self, data):\n",
    "        self.data = data\n",
    "    \n",
    "a = Simple_Bintree(2,2,3)\n",
    "print(a.BinTree())\n",
    "\n",
    "b = Simple_Bintree(2,Simple_Bintree(4).BinTree(),Simple_Bintree(8).BinTree())\n",
    "print(b.BinTree())\n",
    "\n",
    "print(a.is_empty())\n",
    "\n",
    "print(b.root())\n",
    "\n",
    "print(b.get_left())\n",
    "\n",
    "a.set_root(10)\n",
    "print(a.BinTree())"
   ],
   "metadata": {
    "collapsed": false,
    "pycharm": {
     "name": "#%%\n",
     "is_executing": false
    }
   }
  },
  {
   "cell_type": "markdown",
   "source": [
    "## 表达式树"
   ],
   "metadata": {
    "collapsed": false,
    "pycharm": {
     "name": "#%% md\n"
    }
   }
  },
  {
   "cell_type": "markdown",
   "source": [
    "# 优先队列"
   ],
   "metadata": {
    "collapsed": false,
    "pycharm": {
     "name": "#%% md\n"
    }
   }
  },
  {
   "cell_type": "code",
   "execution_count": 6,
   "outputs": [],
   "source": [
    "class PrioQueueError(ValueError):\n",
    "    pass\n",
    "\n",
    "class PrioQue:\n",
    "    def __init__(self, elist = []):\n",
    "        self._elems = list(elist)\n",
    "        self._elems.sort(reverse=True)\n",
    "    \n",
    "    def enqueue(self, e):\n",
    "        i = len(self._elems) - 1\n",
    "        while i >= 1:\n",
    "            if self._elems[i] <= e:\n",
    "                i -= 1\n",
    "            else:\n",
    "                break\n",
    "        self._elems.insert(i+1, e)\n",
    "    \n",
    "    def is_empty(self):\n",
    "        return not self._elems\n",
    "    \n",
    "    def peek(self):\n",
    "        if self.is_empty():\n",
    "            raise PrioQueueError\n",
    "        return self._elems[-1]\n",
    "    \n",
    "    def dequeue(self):\n",
    "        if self.is_empty():\n",
    "            raise PrioQueueError\n",
    "        return self._elems.pop()"
   ],
   "metadata": {
    "collapsed": false,
    "pycharm": {
     "name": "#%%\n",
     "is_executing": false
    }
   }
  },
  {
   "cell_type": "markdown",
   "source": [
    "#堆"
   ],
   "metadata": {
    "collapsed": false,
    "pycharm": {
     "name": "#%% md\n"
    }
   }
  },
  {
   "cell_type": "code",
   "execution_count": 9,
   "outputs": [
    {
     "name": "stdout",
     "text": [
      "Test class PrioQue:\n",
      "2\n",
      "2\n",
      "15\n",
      "16\n",
      "23\n",
      "25\n",
      "26\n",
      "27\n",
      "28\n",
      "29\n",
      "29\n",
      "9\n",
      "Test class PrioQueue:\n",
      "0\n",
      "4\n",
      "6\n",
      "6\n",
      "7\n",
      "9\n",
      "9\n",
      "9\n",
      "13\n",
      "25\n",
      "26\n",
      "27\n"
     ],
     "output_type": "stream"
    }
   ],
   "source": [
    "class PrioQueue:\n",
    "    \"\"\" Implementing binary trees as heaps\n",
    "    \"\"\"\n",
    "    def __init__(self, elist = []):\n",
    "        self.elems = list(elist)\n",
    "        if elist != []:\n",
    "            self.buildheap()\n",
    "\n",
    "    def is_empty(self):\n",
    "        return self.elems == []\n",
    "\n",
    "    def peek(self):\n",
    "        if self.is_empty():\n",
    "            raise PrioQueueError(\"in top\")\n",
    "        return self.elems[0]\n",
    "    \n",
    "    def enqueue(self, e):\n",
    "        self.elems.append(None) # add a dummy element\n",
    "        self.siftup(e, len(self.elems)-1)\n",
    "\n",
    "    def siftup(self, e, last):\n",
    "        elems, i, j = self.elems, last, (last-1)//2\n",
    "        while i > 0 and e < elems[j]:\n",
    "            elems[i] = elems[j]\n",
    "            i, j = j, (j-1)//2\n",
    "        elems[i] = e\n",
    "\n",
    "    def dequeue(self):\n",
    "        if self.is_empty():\n",
    "            raise PrioQueueError(\"in pop\")\n",
    "        elems = self.elems\n",
    "        e0 = elems[0]\n",
    "        e = elems.pop()\n",
    "        if len(elems) > 0:\n",
    "            self.siftdown(e, 0, len(elems))\n",
    "        return e0\n",
    "\n",
    "    def siftdown(self, e, begin, end):\n",
    "        elems, i, j = self.elems, begin, begin*2+1\n",
    "        while j < end: # invariant: j == 2*i+1\n",
    "            if j+1 < end and elems[j+1] < elems[j]:\n",
    "                j += 1 # elems[j] <= its brother\n",
    "            if e < elems[j]: # e is the smallest of the three\n",
    "                break\n",
    "            elems[i] = elems[j] # elems[j] is the smallest, move it up\n",
    "            i, j = j, 2*j+1\n",
    "        elems[i] = e\n",
    "\n",
    "    def buildheap(self):\n",
    "        end = len(self.elems)\n",
    "        for i in range(end//2, -1, -1):\n",
    "            self.siftdown(self.elems[i], i, end)\n",
    "\n",
    "from random import randint    \n",
    "\n",
    "print(\"Test class PrioQue:\")\n",
    "pq = PrioQue()\n",
    "for i in range(12):\n",
    "    pq.enqueue(randint(0, 30))\n",
    "while not pq.is_empty():\n",
    "    print(pq.dequeue())\n",
    "    \n",
    "print(\"Test class PrioQueue:\")\n",
    "pq = PrioQueue()\n",
    "for i in range(12):\n",
    "    pq.enqueue(randint(0, 30))\n",
    "while not pq.is_empty():\n",
    "    print(pq.dequeue())"
   ],
   "metadata": {
    "collapsed": false,
    "pycharm": {
     "name": "#%%\n",
     "is_executing": false
    }
   }
  },
  {
   "cell_type": "code",
   "execution_count": null,
   "outputs": [],
   "source": [
    "def heap_sort(elems):\n",
    "    def siftdown(elems, e, begin, end):\n",
    "        i, j = begin, begin*2+1\n",
    "        while j < end: # invariant: j == 2*i+1\n",
    "            if j+1 < end and elems[j+1] < elems[j]:\n",
    "                j += 1 # elems[j] <= its brother\n",
    "            if e < elems[j]: # e is the smallest of the three\n",
    "                break\n",
    "            elems[i] = elems[j] # elems[j] is the smallest, move it up\n",
    "            i, j = j, 2*j+1\n",
    "        elems[i] = e\n",
    "        \n",
    "    end = len(elems)\n",
    "    for i in range(end//2, -1, -1):\n",
    "        siftdown(elems, elems[i], i, end)\n",
    "    for i in range((end-1), 0, -1):\n",
    "        e = elems[i]\n",
    "        elems[i] = elems[0]\n",
    "        siftdown(elems, e, 0, i)\n",
    "        "
   ],
   "metadata": {
    "collapsed": false,
    "pycharm": {
     "name": "#%%\n"
    }
   }
  },
  {
   "cell_type": "markdown",
   "source": [
    "# 二叉树类"
   ],
   "metadata": {
    "collapsed": false,
    "pycharm": {
     "name": "#%% md\n"
    }
   }
  },
  {
   "cell_type": "code",
   "execution_count": 10,
   "outputs": [],
   "source": [
    "class BinTNode:\n",
    "    def __init__(self, dat, left=None, right=None):\n",
    "        self.data = dat\n",
    "        self.left = left\n",
    "        self.right = right\n",
    "\n",
    "def count_BinTNodes(t):\n",
    "    if t is None:\n",
    "        return 0\n",
    "    else:\n",
    "        return 1 + count_BinTNodes(t.left) + count_BinTNodes(t.right)\n",
    "\n",
    "def sum_BinTNodes(t):\n",
    "    if t is None:\n",
    "        return 0\n",
    "    else:\n",
    "        return t.dat + sum_BinTNodes(t.left) + sum_BinTNodes(t.right)\n",
    "    "
   ],
   "metadata": {
    "collapsed": false,
    "pycharm": {
     "name": "#%%\n",
     "is_executing": false
    }
   }
  },
  {
   "cell_type": "markdown",
   "source": [
    "## 遍历算法"
   ],
   "metadata": {
    "collapsed": false,
    "pycharm": {
     "name": "#%% md\n"
    }
   }
  },
  {
   "cell_type": "code",
   "execution_count": 19,
   "outputs": [
    {
     "name": "stdout",
     "text": [
      "(1(2^(5(1^^)(2^^)))(8^^))"
     ],
     "output_type": "stream"
    }
   ],
   "source": [
    "def proc(m):\n",
    "    print(str(m))\n",
    "    return\n",
    "\n",
    "def preorder(t, proc):\n",
    "    if t is None: \n",
    "        return\n",
    "    proc(t.data)\n",
    "    preorder(t.left)\n",
    "    preorder(t.right)\n",
    "\n",
    "def inorder(t, proc):\n",
    "    if t is None: return\n",
    "    inorder(t.left)\n",
    "    proc(t.data)\n",
    "    inorder(t.right)\n",
    "\n",
    "def postorder(t, proc):\n",
    "    if t is None: return\n",
    "    postorder(t.left)\n",
    "    postorder(t.right)\n",
    "    proc(t.data)\n",
    "\n",
    "def print_BinTNode(t):\n",
    "    if t is None:\n",
    "        print(\"^\", end='')\n",
    "        return\n",
    "    print(\"(\" + str(t.data), end='')\n",
    "    print_BinTNode(t.left)\n",
    "    print_BinTNode(t.right)\n",
    "    print(\")\", end='')\n",
    "\n",
    "t = BinTNode(1, BinTNode(2, None, BinTNode(5,BinTNode(1),BinTNode(2))), BinTNode(8))\n",
    "print_BinTNode(t)"
   ],
   "metadata": {
    "collapsed": false,
    "pycharm": {
     "name": "#%%\n",
     "is_executing": false
    }
   }
  },
  {
   "cell_type": "code",
   "execution_count": 22,
   "outputs": [
    {
     "traceback": [
      "\u001b[1;31m---------------------------------------------------------------------------\u001b[0m",
      "\u001b[1;31mModuleNotFoundError\u001b[0m                       Traceback (most recent call last)",
      "\u001b[1;32m<ipython-input-22-c7b63716c25f>\u001b[0m in \u001b[0;36m<module>\u001b[1;34m\u001b[0m\n\u001b[1;32m----> 1\u001b[1;33m \u001b[1;32mimport\u001b[0m \u001b[0mcp5\u001b[0m\u001b[1;33m.\u001b[0m\u001b[0mipynb\u001b[0m\u001b[1;33m\u001b[0m\u001b[1;33m\u001b[0m\u001b[0m\n\u001b[0m\u001b[0;32m      2\u001b[0m \u001b[1;32mfrom\u001b[0m \u001b[0mSQueue\u001b[0m \u001b[1;32mimport\u001b[0m \u001b[1;33m*\u001b[0m\u001b[1;33m\u001b[0m\u001b[1;33m\u001b[0m\u001b[0m\n",
      "\u001b[1;31mModuleNotFoundError\u001b[0m: No module named 'cp5'"
     ],
     "ename": "ModuleNotFoundError",
     "evalue": "No module named 'cp5'",
     "output_type": "error"
    }
   ],
   "source": [
    "class QueueUnderFlow(ValueError):\n",
    "    pass\n",
    "\n",
    "class SQueue():\n",
    "    def __init__(self, init_len = 8):\n",
    "        self._len = init_len\n",
    "        self._elems = [0] * init_len\n",
    "        self._head = 0\n",
    "        self._num = 0\n",
    "    \n",
    "    def is_empty(self):\n",
    "        return self._num == 0\n",
    "    \n",
    "    def peek(self):\n",
    "        if self._num == 0:\n",
    "            raise QueueUnderFlow\n",
    "        return self._elems[self._head]\n",
    "    \n",
    "    def dequeue(self):\n",
    "        if self._num == 0:\n",
    "            raise QueueUnderFlow\n",
    "        e = self._elems[self._head]\n",
    "        self._head = (self._head + 1) % self._len\n",
    "        self._num -= 1\n",
    "        return e\n",
    "    \n",
    "    def __extend(self):\n",
    "        old_len = self._len\n",
    "        self._len *= 2\n",
    "        new_elems = [0]*self._len\n",
    "        for i in range(old_len):\n",
    "            new_elems[i] = self._elems[(self._head + i) % old_len]\n",
    "        self._elems, self._head = new_elems, 0\n",
    "    \n",
    "    def enqueue(self, e):\n",
    "        if self._num == self._len:\n",
    "            self.__extend()\n",
    "        self._elems[(self._head + self._num) % self._len] = e\n",
    "        self._num += 1\n",
    "\n",
    "def levelorder(t, proc):\n",
    "    qu = SQueue()\n",
    "    qu.enqueue(t)\n",
    "    while not qu.is_empty():\n",
    "        n = qu.dequeue()\n",
    "        if t is None:\n",
    "            continue\n",
    "        qu.enqueue(t.left)\n",
    "        qu.enqueue(t.right)\n",
    "        proc(t.data)\n"
   ],
   "metadata": {
    "collapsed": false,
    "pycharm": {
     "name": "#%%\n",
     "is_executing": false
    }
   }
  },
  {
   "cell_type": "markdown",
   "source": [
    "# 非递归遍历"
   ],
   "metadata": {
    "collapsed": false,
    "pycharm": {
     "name": "#%% md\n"
    }
   }
  },
  {
   "cell_type": "code",
   "execution_count": null,
   "outputs": [],
   "source": [
    "def preorder_nonrec(t, proc):\n",
    "    s = SStack()\n",
    "    while t is not None or not s.is_empty():\n",
    "        while t is not None:\n",
    "            proc(t.data)\n",
    "            s.push(t.right)\n",
    "            t = t.left\n",
    "        t = s.pop()"
   ],
   "metadata": {
    "collapsed": false,
    "pycharm": {
     "name": "#%%\n"
    }
   }
  },
  {
   "cell_type": "code",
   "execution_count": null,
   "outputs": [],
   "source": [
    "def preorder_elements(t):\n",
    "    s=SStack()\n",
    "    while t is not None or not s.is_empty():\n",
    "        while t is not None:\n",
    "            s.push(t.right)\n",
    "            yied t.data\n",
    "            t = t.left\n",
    "        t = s.pop()"
   ],
   "metadata": {
    "collapsed": false,
    "pycharm": {
     "name": "#%%\n"
    }
   }
  },
  {
   "cell_type": "code",
   "execution_count": null,
   "outputs": [],
   "source": [
    "def postorder_nonrec(t, proc):\n",
    "    s = SStack()\n",
    "    while t is not None or not s.is_empty():\n",
    "        while t is not None:  # iterate until top has no child\n",
    "            s.push(t)\n",
    "            t = t.left if t.left is not None else t.right\n",
    "            # if we can go left, go, otherwise, go right\n",
    "        t = s.pop()  # get the node to be access\n",
    "        proc(t.data)\n",
    "        if not s.is_empty() and s.top().left == t:\n",
    "            t = s.top().right # end of left visit, turn right\n",
    "        else:\n",
    "            t = None # end of right visit, force to backtrack"
   ],
   "metadata": {
    "collapsed": false,
    "pycharm": {
     "name": "#%%\n"
    }
   }
  },
  {
   "cell_type": "code",
   "execution_count": 1,
   "outputs": [],
   "source": [
    "class BiTree:\n",
    "    def __init__(self):\n",
    "        self._root = None\n",
    "\n",
    "    def is_empty(self):\n",
    "        return self._root == None\n",
    "\n",
    "    def set_root(self, rootnode):\n",
    "        self._root = rootnode\n",
    "\n",
    "    def set_left(self, leftchild):\n",
    "        self._root.left = leftchild\n",
    "\n",
    "    def set_right(self, rightchild):\n",
    "        self._root.right = rightchild\n",
    "\n",
    "    def root(self): return self._root\n",
    "    def leftchild(self): return self._root.left\n",
    "    def rightchild(self): return self._root.right\n",
    "\n",
    "    def preorder_iter(self):\n",
    "        t, s = self._root, SStack()\n",
    "        while t is not None or not s.is_empty():\n",
    "            while t is not None: \n",
    "                s.push(t.right)\n",
    "                yield t.data\n",
    "                t = t.left\n",
    "            t = s.pop()\n"
   ],
   "metadata": {
    "collapsed": false,
    "pycharm": {
     "name": "#%%\n",
     "is_executing": false
    }
   }
  },
  {
   "cell_type": "code",
   "execution_count": null,
   "outputs": [],
   "source": [
    "\n",
    "        "
   ],
   "metadata": {
    "collapsed": false,
    "pycharm": {
     "name": "#%%\n"
    }
   }
  }
 ],
 "metadata": {
  "kernelspec": {
   "display_name": "Python 3",
   "language": "python",
   "name": "python3"
  },
  "language_info": {
   "codemirror_mode": {
    "name": "ipython",
    "version": 2
   },
   "file_extension": ".py",
   "mimetype": "text/x-python",
   "name": "python",
   "nbconvert_exporter": "python",
   "pygments_lexer": "ipython2",
   "version": "2.7.6"
  },
  "pycharm": {
   "stem_cell": {
    "cell_type": "raw",
    "source": [],
    "metadata": {
     "collapsed": false
    }
   }
  }
 },
 "nbformat": 4,
 "nbformat_minor": 0
}