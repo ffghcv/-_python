{
 "cells": [
  {
   "cell_type": "code",
   "execution_count": 2,
   "metadata": {
    "collapsed": true,
    "pycharm": {
     "is_executing": false
    }
   },
   "outputs": [
    {
     "name": "stdout",
     "text": [
      "1\n",
      "1\n",
      "2\n",
      "3\n",
      "5\n",
      "8\n",
      "13\n",
      "21\n",
      "34\n",
      "55\n"
     ],
     "output_type": "stream"
    }
   ],
   "source": [
    "def fib(n):\n",
    "    if n < 2:\n",
    "        return 1\n",
    "    else:\n",
    "        return fib(n-1) + fib(n-2)\n",
    "    \n",
    "for i in range(10):\n",
    "    print(fib(i))"
   ]
  },
  {
   "cell_type": "markdown",
   "source": [
    "# 求平方根\n",
    "## 二分法"
   ],
   "metadata": {
    "collapsed": false,
    "pycharm": {
     "name": "#%% md\n"
    }
   }
  },
  {
   "cell_type": "code",
   "execution_count": 3,
   "outputs": [
    {
     "name": "stdout",
     "text": [
      "17\n"
     ],
     "output_type": "stream"
    },
    {
     "data": {
      "text/plain": "3.1622695922851562"
     },
     "metadata": {},
     "output_type": "execute_result",
     "execution_count": 3
    }
   ],
   "source": [
    "def bin_sqrt(n):\n",
    "    y = n/2\n",
    "    low = 0\n",
    "    high = n\n",
    "    count = 0\n",
    "    while abs(y**2 - n) >0.0001:\n",
    "        count += 1\n",
    "        if y**2 > n:\n",
    "            high = y\n",
    "        else:\n",
    "            low = y\n",
    "        y = (high+low)/2\n",
    "    print(count)\n",
    "    return y\n",
    "\n",
    "bin_sqrt(10)"
   ],
   "metadata": {
    "collapsed": false,
    "pycharm": {
     "name": "#%%\n",
     "is_executing": false
    }
   }
  },
  {
   "cell_type": "markdown",
   "source": [
    "## 牛顿迭代法"
   ],
   "metadata": {
    "collapsed": false,
    "pycharm": {
     "name": "#%% md\n"
    }
   }
  },
  {
   "cell_type": "code",
   "execution_count": 5,
   "outputs": [
    {
     "name": "stdout",
     "text": [
      "1 5.0\n",
      "2 3.5\n",
      "3 3.178571428571429\n",
      "4 3.162319422150883\n",
      "3.1622776604441363\n"
     ],
     "output_type": "stream"
    }
   ],
   "source": [
    "from math import sqrt\n",
    "def sqrt_newton(num):\n",
    "\tx=sqrt(num)\n",
    "\ty=num/2.0\n",
    "\tcount=1\n",
    "\twhile abs(y-x)>0.00000001:\n",
    "\t\tprint(count,y)\n",
    "\t\tcount+=1\n",
    "\t\ty=((y*1.0)+(1.0*num)/y)/2.0000\n",
    "\treturn y\n",
    " \n",
    "print(sqrt_newton(10))"
   ],
   "metadata": {
    "collapsed": false,
    "pycharm": {
     "name": "#%%\n",
     "is_executing": false
    }
   }
  }
 ],
 "metadata": {
  "kernelspec": {
   "display_name": "Python 3",
   "language": "python",
   "name": "python3"
  },
  "language_info": {
   "codemirror_mode": {
    "name": "ipython",
    "version": 2
   },
   "file_extension": ".py",
   "mimetype": "text/x-python",
   "name": "python",
   "nbconvert_exporter": "python",
   "pygments_lexer": "ipython2",
   "version": "2.7.6"
  },
  "pycharm": {
   "stem_cell": {
    "cell_type": "raw",
    "source": [],
    "metadata": {
     "collapsed": false
    }
   }
  }
 },
 "nbformat": 4,
 "nbformat_minor": 0
}